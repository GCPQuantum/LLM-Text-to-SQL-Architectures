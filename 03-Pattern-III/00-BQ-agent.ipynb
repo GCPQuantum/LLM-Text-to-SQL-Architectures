{
 "cells": [
  {
   "cell_type": "markdown",
   "metadata": {},
   "source": [
    "## BigQuery Agent"
   ]
  },
  {
   "cell_type": "markdown",
   "metadata": {},
   "source": [
    "#### Imports "
   ]
  },
  {
   "cell_type": "code",
   "execution_count": 1,
   "metadata": {},
   "outputs": [],
   "source": [
    "from langchain.agents.agent_toolkits import SQLDatabaseToolkit\n",
    "from langchain.chat_models import ChatVertexAI\n",
    "from langchain.sql_database import SQLDatabase\n",
    "from langchain.agents import create_sql_agent\n",
    "from urllib.parse import quote_plus\n",
    "import pkg_resources\n",
    "import sqlalchemy\n",
    "import langchain\n",
    "import logging\n",
    "import pyodbc\n",
    "import os "
   ]
  },
  {
   "cell_type": "markdown",
   "metadata": {},
   "source": [
    "##### Setup logging"
   ]
  },
  {
   "cell_type": "code",
   "execution_count": 2,
   "metadata": {},
   "outputs": [],
   "source": [
    "logger = logging.getLogger(__name__)\n",
    "logger.setLevel(logging.INFO)\n",
    "logger.addHandler(logging.StreamHandler())"
   ]
  },
  {
   "cell_type": "markdown",
   "metadata": {},
   "source": [
    "##### Log dependencies "
   ]
  },
  {
   "cell_type": "code",
   "execution_count": 3,
   "metadata": {},
   "outputs": [
    {
     "name": "stderr",
     "output_type": "stream",
     "text": [
      "Using langchain==0.0.283\n",
      "Using pyodbc==4.0.34\n",
      "Using sqlalchemy==1.4.22\n",
      "Using pybigquery==0.5.0\n"
     ]
    }
   ],
   "source": [
    "logger.info(f'Using langchain=={langchain.__version__}')\n",
    "logger.info(f\"Using pyodbc=={pkg_resources.get_distribution('pyodbc').version}\")\n",
    "logger.info(f'Using sqlalchemy=={sqlalchemy.__version__}')\n",
    "logger.info(f\"Using pybigquery=={pkg_resources.get_distribution('pybigquery').version}\")\n"
   ]
  },
  {
   "cell_type": "markdown",
   "metadata": {},
   "source": [
    "#### Setup essentials"
   ]
  },
  {
   "cell_type": "markdown",
   "metadata": {},
   "source": [
    "In order to use LangChain or PyODBC to talk to databases directly - ensure the correct and respective drivers are installed in your work machine. \n",
    "\n",
    "For MS SQL:\n",
    "https://learn.microsoft.com/en-us/sql/connect/odbc/linux-mac/install-microsoft-odbc-driver-sql-server-macos?view=sql-server-ver15 <br><br>\n",
    "\n",
    "For BigQuery:<br>\n",
    "-- Landing Page<br>\n",
    "https://cloud.google.com/bigquery/docs/reference/odbc-jdbc-drivers<br>\n",
    "-- Install ODBC release 2.5.2.1004<br>\n",
    "https://cloud.google.com/bigquery/docs/reference/odbc-jdbc-drivers#odbc_release_2521004<br>\n",
    "-- Congifuration Guide <br>\n",
    "https://storage.googleapis.com/simba-bq-release/odbc/Simba%20Google%20BigQuery%20ODBC%20Connector%20Install%20and%20Configuration%20Guide-2.5.2.1004.pdf<br>\n",
    "\n"
   ]
  },
  {
   "cell_type": "code",
   "execution_count": 4,
   "metadata": {},
   "outputs": [],
   "source": [
    "PROJECT = 'arun-genai-bb'\n",
    "LOCATION = 'us-central1'\n",
    "MODEL_NAME = 'codechat-bison@latest'\n",
    "DATASET = 'flight_reservations'\n",
    "SERVICE_ACCOUNT_KEY_PATH = './../credentials/vai-key.json'\n",
    "os.environ['GOOGLE_APPLICATION_CREDENTIALS'] = SERVICE_ACCOUNT_KEY_PATH\n",
    "SERVICE_ACCOUNT_KEY_PATH_ABS = os.path.abspath(SERVICE_ACCOUNT_KEY_PATH)\n",
    "SERVICE_ACCOUNT_EMAIL = 'as-service@arun-genai-bb.iam.gserviceaccount.com'  # Can be found in the service account JSON key above\n",
    "OAUTH_FLAG = 0 # 0 means we are using the service account credentials key for auth and 1 means we are using a refresh token \n",
    "CATALOG = 'arun-genai-bb'  # same as project name \n",
    "DRIVER_PATH_ABS = '/Library/simba/googlebigqueryodbc/lib/libgooglebigqueryodbc_sbu.dylib'\n",
    "EMAIL = 'as-service@arun-genai-bb.iam.gserviceaccount.com'"
   ]
  },
  {
   "cell_type": "markdown",
   "metadata": {},
   "source": [
    "#### Step 1: Establish ODBC connection "
   ]
  },
  {
   "cell_type": "markdown",
   "metadata": {},
   "source": [
    "Option 1: Establishing connection using PyODBC directly"
   ]
  },
  {
   "cell_type": "code",
   "execution_count": 5,
   "metadata": {},
   "outputs": [
    {
     "name": "stderr",
     "output_type": "stream",
     "text": [
      "Driver=/Library/simba/googlebigqueryodbc/lib/libgooglebigqueryodbc_sbu.dylib;Catalog=arun-genai-bb;Dataset=flight_reservations;KeyFilePath=/Users/arunpshankar/Desktop/Projects/LLM-Text-to-SQL-Architectures/credentials/vai-key.json;OAuthMechanism=0;Email=as-service@arun-genai-bb.iam.gserviceaccount.com\n"
     ]
    },
    {
     "data": {
      "text/plain": [
       "<pyodbc.Connection at 0x11f307b90>"
      ]
     },
     "execution_count": 5,
     "metadata": {},
     "output_type": "execute_result"
    }
   ],
   "source": [
    "connection_string = f'Driver={DRIVER_PATH_ABS};Catalog={CATALOG};Dataset={DATASET};KeyFilePath={SERVICE_ACCOUNT_KEY_PATH_ABS};OAuthMechanism={OAUTH_FLAG};Email={EMAIL}'\n",
    "logger.info(connection_string)\n",
    "connection = pyodbc.connect(connection_string)\n",
    "connection"
   ]
  },
  {
   "cell_type": "markdown",
   "metadata": {},
   "source": [
    "Option 2: Using LangChain (perferred)"
   ]
  },
  {
   "cell_type": "code",
   "execution_count": 6,
   "metadata": {},
   "outputs": [
    {
     "name": "stderr",
     "output_type": "stream",
     "text": [
      "SQLALCHEMY_URI=bigquery://arun-genai-bb/flight_reservations?KeyFilePath=%2FUsers%2Farunpshankar%2FDesktop%2FProjects%2FLLM-Text-to-SQL-Architectures%2Fcredentials%2Fvai-key.json&Driver=%2FLibrary%2Fsimba%2Fgooglebigqueryodbc%2Flib%2Flibgooglebigqueryodbc_sbu.dylib&OAuthMechanism=0&Catalog=arun-genai-bb&Dataset=flight_reservations&Email=as-service@arun-genai-bb.iam.gserviceaccount.com\n"
     ]
    }
   ],
   "source": [
    "params = {\n",
    "    'KeyFilePath': quote_plus(SERVICE_ACCOUNT_KEY_PATH_ABS),\n",
    "    'Driver': quote_plus(DRIVER_PATH_ABS),\n",
    "    'OAuthMechanism': OAUTH_FLAG,\n",
    "    'Catalog': CATALOG,\n",
    "    'Dataset': DATASET,\n",
    "    'Email': EMAIL,\n",
    "}\n",
    "\n",
    "SQLALCHEMY_URI = f\"bigquery://{PROJECT}/{DATASET}?{'&'.join(f'{k}={v}' for k, v in params.items())}\"\n",
    "logger.info(f'SQLALCHEMY_URI={SQLALCHEMY_URI}')"
   ]
  },
  {
   "cell_type": "code",
   "execution_count": 7,
   "metadata": {},
   "outputs": [
    {
     "name": "stderr",
     "output_type": "stream",
     "text": [
      "/Library/Developer/CommandLineTools/Library/Frameworks/Python3.framework/Versions/3.9/lib/python3.9/importlib/__init__.py:127: UserWarning: Obsolete pybigquery is installed, which is likely to\n",
      "interfere with sqlalchemy_bigquery.\n",
      "pybigquery should be uninstalled.\n",
      "  return _bootstrap._gcd_import(name[level:], package, level)\n"
     ]
    }
   ],
   "source": [
    "db = SQLDatabase.from_uri(SQLALCHEMY_URI)"
   ]
  },
  {
   "cell_type": "code",
   "execution_count": 8,
   "metadata": {},
   "outputs": [
    {
     "data": {
      "text/plain": [
       "{'_engine': Engine(bigquery://arun-genai-bb/flight_reservations?Catalog=arun-genai-bb&Dataset=flight_reservations&Driver=%2FLibrary%2Fsimba%2Fgooglebigqueryodbc%2Flib%2Flibgooglebigqueryodbc_sbu.dylib&Email=as-service%40arun-genai-bb.iam.gserviceaccount.com&KeyFilePath=%2FUsers%2Farunpshankar%2FDesktop%2FProjects%2FLLM-Text-to-SQL-Architectures%2Fcredentials%2Fvai-key.json&OAuthMechanism=0),\n",
       " '_schema': None,\n",
       " '_inspector': <sqlalchemy.engine.reflection.Inspector at 0x124967880>,\n",
       " '_all_tables': {'customers', 'flights', 'reservations', 'transactions'},\n",
       " '_include_tables': set(),\n",
       " '_ignore_tables': set(),\n",
       " '_usable_tables': {'customers', 'flights', 'reservations', 'transactions'},\n",
       " '_sample_rows_in_table_info': 3,\n",
       " '_indexes_in_table_info': False,\n",
       " '_custom_table_info': None,\n",
       " '_max_string_length': 300,\n",
       " '_metadata': MetaData()}"
      ]
     },
     "execution_count": 8,
     "metadata": {},
     "output_type": "execute_result"
    }
   ],
   "source": [
    "db.__dict__"
   ]
  },
  {
   "cell_type": "markdown",
   "metadata": {},
   "source": [
    "List all installed drivers "
   ]
  },
  {
   "cell_type": "code",
   "execution_count": 9,
   "metadata": {},
   "outputs": [
    {
     "data": {
      "text/plain": [
       "['ODBC Driver 18 for SQL Server',\n",
       " 'ODBC Driver 13 for SQL Server',\n",
       " 'ODBC Drivers',\n",
       " 'Simba GoogleBigQuery ODBC Driver']"
      ]
     },
     "execution_count": 9,
     "metadata": {},
     "output_type": "execute_result"
    }
   ],
   "source": [
    "pyodbc.drivers()"
   ]
  },
  {
   "cell_type": "markdown",
   "metadata": {},
   "source": [
    "#### Step 2: Setup LLM and SQL DB Toolkit"
   ]
  },
  {
   "cell_type": "code",
   "execution_count": 10,
   "metadata": {},
   "outputs": [],
   "source": [
    "llm = ChatVertexAI(project=PROJECT, \n",
    "                   location=LOCATION, \n",
    "                   model_name=MODEL_NAME,\n",
    "                   temperature=0.0, \n",
    "                   max_output_tokens=256)"
   ]
  },
  {
   "cell_type": "code",
   "execution_count": 11,
   "metadata": {},
   "outputs": [
    {
     "data": {
      "text/plain": [
       "{'db': <langchain.utilities.sql_database.SQLDatabase at 0x104cf1c40>,\n",
       " 'llm': ChatVertexAI(cache=None, verbose=False, callbacks=None, callback_manager=None, tags=None, metadata=None, project='arun-genai-bb', location='us-central1', request_parallelism=5, max_retries=6, stop=None, model_name='codechat-bison@latest', client=<vertexai.preview.language_models._PreviewCodeChatModel object at 0x11f30fe20>, temperature=0.0, max_output_tokens=256, top_p=0.95, top_k=40, credentials=None)}"
      ]
     },
     "execution_count": 11,
     "metadata": {},
     "output_type": "execute_result"
    }
   ],
   "source": [
    "toolkit = SQLDatabaseToolkit(db=db, llm=llm)\n",
    "toolkit.__dict__"
   ]
  },
  {
   "cell_type": "markdown",
   "metadata": {},
   "source": [
    "#### Step 3: Create SQL Agent"
   ]
  },
  {
   "cell_type": "code",
   "execution_count": 12,
   "metadata": {},
   "outputs": [
    {
     "data": {
      "text/plain": [
       "{'memory': None,\n",
       " 'callbacks': None,\n",
       " 'callback_manager': None,\n",
       " 'verbose': True,\n",
       " 'tags': None,\n",
       " 'metadata': None,\n",
       " 'agent': ZeroShotAgent(llm_chain=LLMChain(memory=None, callbacks=None, callback_manager=None, verbose=False, tags=None, metadata=None, prompt=PromptTemplate(input_variables=['input', 'agent_scratchpad'], output_parser=None, partial_variables={}, template='You are an agent designed to interact with a SQL database.\\nGiven an input question, create a syntactically correct bigquery query to run, then look at the results of the query and return the answer.\\nUnless the user specifies a specific number of examples they wish to obtain, always limit your query to at most 1000 results.\\nYou can order the results by a relevant column to return the most interesting examples in the database.\\nNever query for all the columns from a specific table, only ask for the relevant columns given the question.\\nYou have access to tools for interacting with the database.\\nOnly use the below tools. Only use the information returned by the below tools to construct your final answer.\\nYou MUST double check your query before executing it. If you get an error while executing a query, rewrite the query and try again.\\n\\nDO NOT make any DML statements (INSERT, UPDATE, DELETE, DROP etc.) to the database.\\n\\nIf the question does not seem related to the database, just return \"I don\\'t know\" as the answer.\\n\\n\\nsql_db_query: Input to this tool is a detailed and correct SQL query, output is a result from the database. If the query is not correct, an error message will be returned. If an error is returned, rewrite the query, check the query, and try again. If you encounter an issue with Unknown column \\'xxxx\\' in \\'field list\\', using sql_db_schema to query the correct table fields.\\nsql_db_schema: Input to this tool is a comma-separated list of tables, output is the schema and sample rows for those tables. Be sure that the tables actually exist by calling sql_db_list_tables first! Example Input: \\'table1, table2, table3\\'\\nsql_db_list_tables: Input is an empty string, output is a comma separated list of tables in the database.\\nsql_db_query_checker: Use this tool to double check if your query is correct before executing it. Always use this tool before executing a query with sql_db_query!\\n\\nUse the following format:\\n\\nQuestion: the input question you must answer\\nThought: you should always think about what to do\\nAction: the action to take, should be one of [sql_db_query, sql_db_schema, sql_db_list_tables, sql_db_query_checker]\\nAction Input: the input to the action\\nObservation: the result of the action\\n... (this Thought/Action/Action Input/Observation can repeat N times)\\nThought: I now know the final answer\\nFinal Answer: the final answer to the original input question\\n\\nBegin!\\n\\nQuestion: {input}\\nThought: I should look at the tables in the database to see what I can query.  Then I should query the schema of the most relevant tables.\\n{agent_scratchpad}', template_format='f-string', validate_template=True), llm=ChatVertexAI(cache=None, verbose=False, callbacks=None, callback_manager=None, tags=None, metadata=None, project='arun-genai-bb', location='us-central1', request_parallelism=5, max_retries=6, stop=None, model_name='codechat-bison@latest', client=<vertexai.preview.language_models._PreviewCodeChatModel object at 0x11f30fe20>, temperature=0.0, max_output_tokens=256, top_p=0.95, top_k=40, credentials=None), output_key='text', output_parser=StrOutputParser(), return_final_only=True, llm_kwargs={}), output_parser=MRKLOutputParser(), allowed_tools=['sql_db_query', 'sql_db_schema', 'sql_db_list_tables', 'sql_db_query_checker']),\n",
       " 'tools': [QuerySQLDataBaseTool(name='sql_db_query', description=\"Input to this tool is a detailed and correct SQL query, output is a result from the database. If the query is not correct, an error message will be returned. If an error is returned, rewrite the query, check the query, and try again. If you encounter an issue with Unknown column 'xxxx' in 'field list', using sql_db_schema to query the correct table fields.\", args_schema=None, return_direct=False, verbose=False, callbacks=None, callback_manager=None, tags=None, metadata=None, handle_tool_error=False, db=<langchain.utilities.sql_database.SQLDatabase object at 0x104cf1c40>),\n",
       "  InfoSQLDatabaseTool(name='sql_db_schema', description=\"Input to this tool is a comma-separated list of tables, output is the schema and sample rows for those tables. Be sure that the tables actually exist by calling sql_db_list_tables first! Example Input: 'table1, table2, table3'\", args_schema=None, return_direct=False, verbose=False, callbacks=None, callback_manager=None, tags=None, metadata=None, handle_tool_error=False, db=<langchain.utilities.sql_database.SQLDatabase object at 0x104cf1c40>),\n",
       "  ListSQLDatabaseTool(name='sql_db_list_tables', description='Input is an empty string, output is a comma separated list of tables in the database.', args_schema=None, return_direct=False, verbose=False, callbacks=None, callback_manager=None, tags=None, metadata=None, handle_tool_error=False, db=<langchain.utilities.sql_database.SQLDatabase object at 0x104cf1c40>),\n",
       "  QuerySQLCheckerTool(name='sql_db_query_checker', description='Use this tool to double check if your query is correct before executing it. Always use this tool before executing a query with sql_db_query!', args_schema=None, return_direct=False, verbose=False, callbacks=None, callback_manager=None, tags=None, metadata=None, handle_tool_error=False, db=<langchain.utilities.sql_database.SQLDatabase object at 0x104cf1c40>, template='\\n{query}\\nDouble check the {dialect} query above for common mistakes, including:\\n- Using NOT IN with NULL values\\n- Using UNION when UNION ALL should have been used\\n- Using BETWEEN for exclusive ranges\\n- Data type mismatch in predicates\\n- Properly quoting identifiers\\n- Using the correct number of arguments for functions\\n- Casting to the correct data type\\n- Using the proper columns for joins\\n\\nIf there are any of the above mistakes, rewrite the query. If there are no mistakes, just reproduce the original query.\\n\\nOutput the final SQL query only.\\n\\nSQL Query: ', llm=ChatVertexAI(cache=None, verbose=False, callbacks=None, callback_manager=None, tags=None, metadata=None, project='arun-genai-bb', location='us-central1', request_parallelism=5, max_retries=6, stop=None, model_name='codechat-bison@latest', client=<vertexai.preview.language_models._PreviewCodeChatModel object at 0x11f30fe20>, temperature=0.0, max_output_tokens=256, top_p=0.95, top_k=40, credentials=None), llm_chain=LLMChain(memory=None, callbacks=None, callback_manager=None, verbose=False, tags=None, metadata=None, prompt=PromptTemplate(input_variables=['query', 'dialect'], output_parser=None, partial_variables={}, template='\\n{query}\\nDouble check the {dialect} query above for common mistakes, including:\\n- Using NOT IN with NULL values\\n- Using UNION when UNION ALL should have been used\\n- Using BETWEEN for exclusive ranges\\n- Data type mismatch in predicates\\n- Properly quoting identifiers\\n- Using the correct number of arguments for functions\\n- Casting to the correct data type\\n- Using the proper columns for joins\\n\\nIf there are any of the above mistakes, rewrite the query. If there are no mistakes, just reproduce the original query.\\n\\nOutput the final SQL query only.\\n\\nSQL Query: ', template_format='f-string', validate_template=True), llm=ChatVertexAI(cache=None, verbose=False, callbacks=None, callback_manager=None, tags=None, metadata=None, project='arun-genai-bb', location='us-central1', request_parallelism=5, max_retries=6, stop=None, model_name='codechat-bison@latest', client=<vertexai.preview.language_models._PreviewCodeChatModel object at 0x11f30fe20>, temperature=0.0, max_output_tokens=256, top_p=0.95, top_k=40, credentials=None), output_key='text', output_parser=StrOutputParser(), return_final_only=True, llm_kwargs={}))],\n",
       " 'return_intermediate_steps': False,\n",
       " 'max_iterations': 15,\n",
       " 'max_execution_time': None,\n",
       " 'early_stopping_method': 'force',\n",
       " 'handle_parsing_errors': False,\n",
       " 'trim_intermediate_steps': -1}"
      ]
     },
     "execution_count": 12,
     "metadata": {},
     "output_type": "execute_result"
    }
   ],
   "source": [
    "agent_executor = create_sql_agent(llm=llm, \n",
    "                                  toolkit=toolkit,  \n",
    "                                  top_k=1000,  # max number of retrieved rows\n",
    "                                  verbose=True)\n",
    "agent_executor.__dict__"
   ]
  },
  {
   "cell_type": "markdown",
   "metadata": {},
   "source": [
    "#### Step 4: Run & Test Query"
   ]
  },
  {
   "cell_type": "code",
   "execution_count": 13,
   "metadata": {},
   "outputs": [],
   "source": [
    "user_query = \"Provide a list of all flight reservations from October 10th to October 15th, 2023\""
   ]
  },
  {
   "cell_type": "code",
   "execution_count": 14,
   "metadata": {},
   "outputs": [
    {
     "name": "stdout",
     "output_type": "stream",
     "text": [
      "\n",
      "\n",
      "\u001b[1m> Entering new AgentExecutor chain...\u001b[0m\n",
      "\u001b[32;1m\u001b[1;3m Action: sql_db_list_tables\n",
      "Action Input: \u001b[0m\n",
      "Observation: \u001b[38;5;200m\u001b[1;3mcustomers, flights, reservations, transactions\u001b[0m\n",
      "Thought:\u001b[32;1m\u001b[1;3m Action: sql_db_schema\n",
      "Action Input: flights\u001b[0m\n",
      "Observation: \u001b[33;1m\u001b[1;3m\n",
      "CREATE TABLE `flights` (\n",
      "\t`flight_id` INT64 NOT NULL, \n",
      "\t`origin` STRING NOT NULL, \n",
      "\t`destination` STRING NOT NULL, \n",
      "\t`departure_datetime` DATETIME NOT NULL, \n",
      "\t`arrival_datetime` DATETIME NOT NULL, \n",
      "\t`carrier` STRING NOT NULL, \n",
      "\t`price` FLOAT64 NOT NULL\n",
      ")\n",
      "\n",
      "/*\n",
      "3 rows from flights table:\n",
      "flight_id\torigin\tdestination\tdeparture_datetime\tarrival_datetime\tcarrier\tprice\n",
      "1\tJFK\tLAX\t2023-11-05 09:00:00\t2023-11-05 12:30:00\tDelta\t450.0\n",
      "2\tLAX\tJFK\t2023-11-10 15:00:00\t2023-11-10 23:30:00\tDelta\t450.0\n",
      "3\tJFK\tATL\t2023-11-15 07:00:00\t2023-11-15 09:30:00\tSouthwest\t300.0\n",
      "*/\u001b[0m\n",
      "Thought:\u001b[32;1m\u001b[1;3m Action: sql_db_schema\n",
      "Action Input: reservations\u001b[0m\n",
      "Observation: \u001b[33;1m\u001b[1;3m\n",
      "CREATE TABLE `reservations` (\n",
      "\t`reservation_id` INT64 NOT NULL, \n",
      "\t`customer_id` INT64 NOT NULL, \n",
      "\t`flight_id` INT64 NOT NULL, \n",
      "\t`reservation_datetime` DATETIME NOT NULL, \n",
      "\t`status` STRING NOT NULL\n",
      ")\n",
      "\n",
      "/*\n",
      "3 rows from reservations table:\n",
      "reservation_id\tcustomer_id\tflight_id\treservation_datetime\tstatus\n",
      "1\t1\t1\t2023-10-01 10:30:00\tConfirmed\n",
      "2\t2\t2\t2023-10-02 11:00:00\tConfirmed\n",
      "3\t3\t3\t2023-10-03 12:15:00\tConfirmed\n",
      "*/\u001b[0m\n",
      "Thought:\u001b[32;1m\u001b[1;3m Action: sql_db_query\n",
      "Action Input: SELECT * FROM reservations WHERE reservation_datetime BETWEEN '2023-10-10' AND '2023-10-15'\u001b[0m\n",
      "Observation: \u001b[36;1m\u001b[1;3m[(6, 6, 6, datetime.datetime(2023, 10, 10, 10, 0), 'Confirmed'), (7, 6, 7, datetime.datetime(2023, 10, 12, 11, 30), 'Confirmed')]\u001b[0m\n",
      "Thought:\u001b[32;1m\u001b[1;3m Final Answer: 2 flight reservations were made between October 10th and October 15th, 2023. \u001b[0m\n",
      "\n",
      "\u001b[1m> Finished chain.\u001b[0m\n"
     ]
    },
    {
     "data": {
      "text/plain": [
       "'2 flight reservations were made between October 10th and October 15th, 2023.'"
      ]
     },
     "execution_count": 14,
     "metadata": {},
     "output_type": "execute_result"
    }
   ],
   "source": [
    "agent_executor.run(user_query)"
   ]
  }
 ],
 "metadata": {
  "kernelspec": {
   "display_name": ".venv",
   "language": "python",
   "name": "python3"
  },
  "language_info": {
   "codemirror_mode": {
    "name": "ipython",
    "version": 3
   },
   "file_extension": ".py",
   "mimetype": "text/x-python",
   "name": "python",
   "nbconvert_exporter": "python",
   "pygments_lexer": "ipython3",
   "version": "3.9.6"
  },
  "orig_nbformat": 4
 },
 "nbformat": 4,
 "nbformat_minor": 2
}
