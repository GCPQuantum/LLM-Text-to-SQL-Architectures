{
  "cells": [
    {
      "cell_type": "markdown",
      "metadata": {
        "id": "view-in-github",
        "colab_type": "text"
      },
      "source": [
        "<a href=\"https://colab.research.google.com/github/GCPQuantum/LLM-Text-to-SQL-Architectures/blob/main/02-Pattern-II/00-llm-flow-with-rag.ipynb\" target=\"_parent\"><img src=\"https://colab.research.google.com/assets/colab-badge.svg\" alt=\"Open In Colab\"/></a>"
      ]
    },
    {
      "cell_type": "markdown",
      "metadata": {
        "id": "yJGKZLa6gpKv"
      },
      "source": [
        "## LLM Flow using RAG"
      ]
    },
    {
      "cell_type": "markdown",
      "metadata": {
        "id": "Blg6VJMhgpKx"
      },
      "source": [
        "#### Imports"
      ]
    },
    {
      "cell_type": "code",
      "execution_count": 2,
      "metadata": {
        "colab": {
          "base_uri": "https://localhost:8080/"
        },
        "id": "1maPs85DgpKy",
        "outputId": "dc14dd8b-47b5-4bdb-e711-443d1cd6d9db"
      },
      "outputs": [
        {
          "output_type": "stream",
          "name": "stdout",
          "text": [
            "Collecting langchain\n",
            "  Downloading langchain-0.1.11-py3-none-any.whl (807 kB)\n",
            "\u001b[2K     \u001b[90m━━━━━━━━━━━━━━━━━━━━━━━━━━━━━━━━━━━━━━━━\u001b[0m \u001b[32m807.5/807.5 kB\u001b[0m \u001b[31m5.7 MB/s\u001b[0m eta \u001b[36m0:00:00\u001b[0m\n",
            "\u001b[?25hRequirement already satisfied: PyYAML>=5.3 in /usr/local/lib/python3.10/dist-packages (from langchain) (6.0.1)\n",
            "Requirement already satisfied: SQLAlchemy<3,>=1.4 in /usr/local/lib/python3.10/dist-packages (from langchain) (2.0.28)\n",
            "Requirement already satisfied: aiohttp<4.0.0,>=3.8.3 in /usr/local/lib/python3.10/dist-packages (from langchain) (3.9.3)\n",
            "Requirement already satisfied: async-timeout<5.0.0,>=4.0.0 in /usr/local/lib/python3.10/dist-packages (from langchain) (4.0.3)\n",
            "Collecting dataclasses-json<0.7,>=0.5.7 (from langchain)\n",
            "  Downloading dataclasses_json-0.6.4-py3-none-any.whl (28 kB)\n",
            "Collecting jsonpatch<2.0,>=1.33 (from langchain)\n",
            "  Downloading jsonpatch-1.33-py2.py3-none-any.whl (12 kB)\n",
            "Collecting langchain-community<0.1,>=0.0.25 (from langchain)\n",
            "  Downloading langchain_community-0.0.27-py3-none-any.whl (1.8 MB)\n",
            "\u001b[2K     \u001b[90m━━━━━━━━━━━━━━━━━━━━━━━━━━━━━━━━━━━━━━━━\u001b[0m \u001b[32m1.8/1.8 MB\u001b[0m \u001b[31m13.5 MB/s\u001b[0m eta \u001b[36m0:00:00\u001b[0m\n",
            "\u001b[?25hCollecting langchain-core<0.2,>=0.1.29 (from langchain)\n",
            "  Downloading langchain_core-0.1.30-py3-none-any.whl (256 kB)\n",
            "\u001b[2K     \u001b[90m━━━━━━━━━━━━━━━━━━━━━━━━━━━━━━━━━━━━━━━━\u001b[0m \u001b[32m256.9/256.9 kB\u001b[0m \u001b[31m16.0 MB/s\u001b[0m eta \u001b[36m0:00:00\u001b[0m\n",
            "\u001b[?25hCollecting langchain-text-splitters<0.1,>=0.0.1 (from langchain)\n",
            "  Downloading langchain_text_splitters-0.0.1-py3-none-any.whl (21 kB)\n",
            "Collecting langsmith<0.2.0,>=0.1.17 (from langchain)\n",
            "  Downloading langsmith-0.1.22-py3-none-any.whl (66 kB)\n",
            "\u001b[2K     \u001b[90m━━━━━━━━━━━━━━━━━━━━━━━━━━━━━━━━━━━━━━━━\u001b[0m \u001b[32m66.6/66.6 kB\u001b[0m \u001b[31m8.9 MB/s\u001b[0m eta \u001b[36m0:00:00\u001b[0m\n",
            "\u001b[?25hRequirement already satisfied: numpy<2,>=1 in /usr/local/lib/python3.10/dist-packages (from langchain) (1.25.2)\n",
            "Requirement already satisfied: pydantic<3,>=1 in /usr/local/lib/python3.10/dist-packages (from langchain) (2.6.3)\n",
            "Requirement already satisfied: requests<3,>=2 in /usr/local/lib/python3.10/dist-packages (from langchain) (2.31.0)\n",
            "Requirement already satisfied: tenacity<9.0.0,>=8.1.0 in /usr/local/lib/python3.10/dist-packages (from langchain) (8.2.3)\n",
            "Requirement already satisfied: aiosignal>=1.1.2 in /usr/local/lib/python3.10/dist-packages (from aiohttp<4.0.0,>=3.8.3->langchain) (1.3.1)\n",
            "Requirement already satisfied: attrs>=17.3.0 in /usr/local/lib/python3.10/dist-packages (from aiohttp<4.0.0,>=3.8.3->langchain) (23.2.0)\n",
            "Requirement already satisfied: frozenlist>=1.1.1 in /usr/local/lib/python3.10/dist-packages (from aiohttp<4.0.0,>=3.8.3->langchain) (1.4.1)\n",
            "Requirement already satisfied: multidict<7.0,>=4.5 in /usr/local/lib/python3.10/dist-packages (from aiohttp<4.0.0,>=3.8.3->langchain) (6.0.5)\n",
            "Requirement already satisfied: yarl<2.0,>=1.0 in /usr/local/lib/python3.10/dist-packages (from aiohttp<4.0.0,>=3.8.3->langchain) (1.9.4)\n",
            "Collecting marshmallow<4.0.0,>=3.18.0 (from dataclasses-json<0.7,>=0.5.7->langchain)\n",
            "  Downloading marshmallow-3.21.1-py3-none-any.whl (49 kB)\n",
            "\u001b[2K     \u001b[90m━━━━━━━━━━━━━━━━━━━━━━━━━━━━━━━━━━━━━━━━\u001b[0m \u001b[32m49.4/49.4 kB\u001b[0m \u001b[31m6.5 MB/s\u001b[0m eta \u001b[36m0:00:00\u001b[0m\n",
            "\u001b[?25hCollecting typing-inspect<1,>=0.4.0 (from dataclasses-json<0.7,>=0.5.7->langchain)\n",
            "  Downloading typing_inspect-0.9.0-py3-none-any.whl (8.8 kB)\n",
            "Collecting jsonpointer>=1.9 (from jsonpatch<2.0,>=1.33->langchain)\n",
            "  Downloading jsonpointer-2.4-py2.py3-none-any.whl (7.8 kB)\n",
            "Requirement already satisfied: anyio<5,>=3 in /usr/local/lib/python3.10/dist-packages (from langchain-core<0.2,>=0.1.29->langchain) (3.7.1)\n",
            "Requirement already satisfied: packaging<24.0,>=23.2 in /usr/local/lib/python3.10/dist-packages (from langchain-core<0.2,>=0.1.29->langchain) (23.2)\n",
            "Collecting orjson<4.0.0,>=3.9.14 (from langsmith<0.2.0,>=0.1.17->langchain)\n",
            "  Downloading orjson-3.9.15-cp310-cp310-manylinux_2_17_x86_64.manylinux2014_x86_64.whl (138 kB)\n",
            "\u001b[2K     \u001b[90m━━━━━━━━━━━━━━━━━━━━━━━━━━━━━━━━━━━━━━━━\u001b[0m \u001b[32m138.5/138.5 kB\u001b[0m \u001b[31m17.5 MB/s\u001b[0m eta \u001b[36m0:00:00\u001b[0m\n",
            "\u001b[?25hRequirement already satisfied: annotated-types>=0.4.0 in /usr/local/lib/python3.10/dist-packages (from pydantic<3,>=1->langchain) (0.6.0)\n",
            "Requirement already satisfied: pydantic-core==2.16.3 in /usr/local/lib/python3.10/dist-packages (from pydantic<3,>=1->langchain) (2.16.3)\n",
            "Requirement already satisfied: typing-extensions>=4.6.1 in /usr/local/lib/python3.10/dist-packages (from pydantic<3,>=1->langchain) (4.10.0)\n",
            "Requirement already satisfied: charset-normalizer<4,>=2 in /usr/local/lib/python3.10/dist-packages (from requests<3,>=2->langchain) (3.3.2)\n",
            "Requirement already satisfied: idna<4,>=2.5 in /usr/local/lib/python3.10/dist-packages (from requests<3,>=2->langchain) (3.6)\n",
            "Requirement already satisfied: urllib3<3,>=1.21.1 in /usr/local/lib/python3.10/dist-packages (from requests<3,>=2->langchain) (2.0.7)\n",
            "Requirement already satisfied: certifi>=2017.4.17 in /usr/local/lib/python3.10/dist-packages (from requests<3,>=2->langchain) (2024.2.2)\n",
            "Requirement already satisfied: greenlet!=0.4.17 in /usr/local/lib/python3.10/dist-packages (from SQLAlchemy<3,>=1.4->langchain) (3.0.3)\n",
            "Requirement already satisfied: sniffio>=1.1 in /usr/local/lib/python3.10/dist-packages (from anyio<5,>=3->langchain-core<0.2,>=0.1.29->langchain) (1.3.1)\n",
            "Requirement already satisfied: exceptiongroup in /usr/local/lib/python3.10/dist-packages (from anyio<5,>=3->langchain-core<0.2,>=0.1.29->langchain) (1.2.0)\n",
            "Collecting mypy-extensions>=0.3.0 (from typing-inspect<1,>=0.4.0->dataclasses-json<0.7,>=0.5.7->langchain)\n",
            "  Downloading mypy_extensions-1.0.0-py3-none-any.whl (4.7 kB)\n",
            "Installing collected packages: orjson, mypy-extensions, marshmallow, jsonpointer, typing-inspect, jsonpatch, langsmith, dataclasses-json, langchain-core, langchain-text-splitters, langchain-community, langchain\n",
            "Successfully installed dataclasses-json-0.6.4 jsonpatch-1.33 jsonpointer-2.4 langchain-0.1.11 langchain-community-0.0.27 langchain-core-0.1.30 langchain-text-splitters-0.0.1 langsmith-0.1.22 marshmallow-3.21.1 mypy-extensions-1.0.0 orjson-3.9.15 typing-inspect-0.9.0\n"
          ]
        }
      ],
      "source": [
        "!pip install langchain\n",
        "from langchain.prompts.chat import SystemMessagePromptTemplate\n",
        "from langchain.prompts.chat import HumanMessagePromptTemplate\n",
        "from langchain.prompts.chat import ChatPromptTemplate\n",
        "from langchain.embeddings import VertexAIEmbeddings\n",
        "from langchain.document_loaders import JSONLoader\n",
        "from langchain.embeddings.base import Embeddings\n",
        "from langchain.chat_models import ChatVertexAI\n",
        "from langchain.vectorstores import FAISS\n",
        "from google.cloud import bigquery\n",
        "from typing import List\n",
        "from tqdm import tqdm\n",
        "import logging\n",
        "import json\n",
        "import os"
      ]
    },
    {
      "cell_type": "markdown",
      "metadata": {
        "id": "fYT3yqOpgpKy"
      },
      "source": [
        "##### Setup logging"
      ]
    },
    {
      "cell_type": "code",
      "execution_count": 3,
      "metadata": {
        "id": "xIctujPngpKy"
      },
      "outputs": [],
      "source": [
        "logger = logging.getLogger('langchain')\n",
        "logger.setLevel(logging.INFO)\n",
        "logger.addHandler(logging.StreamHandler())"
      ]
    },
    {
      "cell_type": "markdown",
      "metadata": {
        "id": "YxrbfbafgpKz"
      },
      "source": [
        "#### Setup essentials"
      ]
    },
    {
      "cell_type": "code",
      "execution_count": 6,
      "metadata": {
        "id": "o6uYTJN8gpKz"
      },
      "outputs": [],
      "source": [
        "SERVICE_ACCOUNT_KEY_PATH = '/content/gcpquantummain-c2330e59b0c4.json'\n",
        "os.environ['GOOGLE_APPLICATION_CREDENTIALS'] = SERVICE_ACCOUNT_KEY_PATH"
      ]
    },
    {
      "cell_type": "code",
      "execution_count": 12,
      "metadata": {
        "id": "bnwiaERXgpKz"
      },
      "outputs": [],
      "source": [
        "PROJECT = 'gcpquantummain'\n",
        "LOCATION = 'us-central1'\n",
        "MODEL_NAME = 'codechat-bison'"
      ]
    },
    {
      "cell_type": "code",
      "execution_count": 15,
      "metadata": {
        "colab": {
          "base_uri": "https://localhost:8080/"
        },
        "id": "tGwALIHQgpKz",
        "outputId": "79ffc669-a4df-4c8c-d1a7-c24d589ea03c"
      },
      "outputs": [
        {
          "output_type": "execute_result",
          "data": {
            "text/plain": [
              "ChatVertexAI(project='gcpquantummain', model_name='codechat-bison', client=<vertexai.language_models.CodeChatModel object at 0x78c491bae7d0>, max_output_tokens=512)"
            ]
          },
          "metadata": {},
          "execution_count": 15
        }
      ],
      "source": [
        "llm = ChatVertexAI(project=PROJECT,\n",
        "                   location=LOCATION,\n",
        "                   model_name=MODEL_NAME,\n",
        "                   temperature=0.0,\n",
        "                   max_output_tokens=512)\n",
        "\n",
        "llm"
      ]
    },
    {
      "cell_type": "code",
      "execution_count": 16,
      "metadata": {
        "id": "otHt35NNgpKz"
      },
      "outputs": [],
      "source": [
        "class MyVertexAIEmbeddings(VertexAIEmbeddings, Embeddings):\n",
        "    model_name = 'textembedding-gecko'\n",
        "    max_batch_size = 5\n",
        "\n",
        "    def embed_segments(self, segments: List) -> List:\n",
        "        embeddings = []\n",
        "        for i in tqdm(range(0, len(segments), self.max_batch_size)):\n",
        "            batch = segments[i: i+self.max_batch_size]\n",
        "            embeddings.extend(self.client.get_embeddings(batch))\n",
        "        return [embedding.values for embedding in embeddings]\n",
        "\n",
        "    def embed_query(self, query: str) -> List:\n",
        "        embeddings = self.client.get_embeddings([query])\n",
        "        return embeddings[0].values"
      ]
    },
    {
      "cell_type": "code",
      "execution_count": 29,
      "metadata": {
        "colab": {
          "base_uri": "https://localhost:8080/"
        },
        "id": "DYHs2_eEgpK0",
        "outputId": "02613175-1e6d-4d10-88d5-aa4a3edf5563"
      },
      "outputs": [
        {
          "output_type": "stream",
          "name": "stderr",
          "text": [
            "WARNING:langchain_community.embeddings.vertexai:Model_name will become a required arg for VertexAIEmbeddings starting from Feb-01-2024. Currently the default is set to textembedding-gecko@001\n"
          ]
        },
        {
          "output_type": "execute_result",
          "data": {
            "text/plain": [
              "MyVertexAIEmbeddings(project=None, location='us-central1', request_parallelism=5, max_retries=6, stop=None, model_name='textembedding-gecko@001', client=<vertexai.language_models.TextEmbeddingModel object at 0x78c47efcb7c0>, client_preview=None, temperature=0.0, max_output_tokens=128, top_p=0.95, top_k=40, credentials=None, n=1, streaming=False, instance={'max_batch_size': 250, 'batch_size': 250, 'min_batch_size': 5, 'min_good_batch_size': 5, 'lock': <unlocked _thread.lock object at 0x78c49022b900>, 'batch_size_validated': False, 'task_executor': <concurrent.futures.thread.ThreadPoolExecutor object at 0x78c57c308910>, 'embeddings_task_type_supported': False}, show_progress_bar=False, max_batch_size=5)"
            ]
          },
          "metadata": {},
          "execution_count": 29
        }
      ],
      "source": [
        "embedding = MyVertexAIEmbeddings()\n",
        "embedding"
      ]
    },
    {
      "cell_type": "code",
      "execution_count": 18,
      "metadata": {
        "id": "mA9tzFbogpK0"
      },
      "outputs": [],
      "source": [
        "query = \"Provide a list of all flight reservations from October 10th to October 15th, 2023\""
      ]
    },
    {
      "cell_type": "markdown",
      "metadata": {
        "id": "D-iscGUDgpK0"
      },
      "source": [
        "#### Step 1: Embed and index tables info"
      ]
    },
    {
      "cell_type": "code",
      "execution_count": 26,
      "metadata": {
        "colab": {
          "base_uri": "https://localhost:8080/"
        },
        "id": "f4rwDcNZgpK0",
        "outputId": "3b449fbe-b7f5-46fa-8a29-ffb005f6b548"
      },
      "outputs": [
        {
          "output_type": "stream",
          "name": "stdout",
          "text": [
            "Requirement already satisfied: jq in /usr/local/lib/python3.10/dist-packages (1.6.0)\n"
          ]
        }
      ],
      "source": [
        "!pip install jq\n",
        "\n",
        "documents = JSONLoader(file_path='/content/tables.jsonl', jq_schema='.', text_content=False, json_lines=True).load()\n",
        "\n"
      ]
    },
    {
      "cell_type": "code",
      "execution_count": 28,
      "metadata": {
        "colab": {
          "base_uri": "https://localhost:8080/"
        },
        "id": "q_sfUzzagpK1",
        "outputId": "2000e27e-ba76-4326-84ee-744cdb994743"
      },
      "outputs": [
        {
          "output_type": "stream",
          "name": "stdout",
          "text": [
            "Collecting faiss-cpu\n",
            "  Downloading faiss_cpu-1.8.0-cp310-cp310-manylinux_2_17_x86_64.manylinux2014_x86_64.whl (27.0 MB)\n",
            "\u001b[2K     \u001b[90m━━━━━━━━━━━━━━━━━━━━━━━━━━━━━━━━━━━━━━━━\u001b[0m \u001b[32m27.0/27.0 MB\u001b[0m \u001b[31m46.9 MB/s\u001b[0m eta \u001b[36m0:00:00\u001b[0m\n",
            "\u001b[?25hRequirement already satisfied: numpy in /usr/local/lib/python3.10/dist-packages (from faiss-cpu) (1.25.2)\n",
            "Installing collected packages: faiss-cpu\n",
            "Successfully installed faiss-cpu-1.8.0\n"
          ]
        }
      ],
      "source": [
        "!pip install faiss-cpu\n",
        "db = FAISS.from_documents(documents=documents, embedding=embedding)"
      ]
    },
    {
      "cell_type": "markdown",
      "metadata": {
        "id": "Ipi2BAYugpK1"
      },
      "source": [
        "#### Step 2: Match indexed tables embedding to incoming query"
      ]
    },
    {
      "cell_type": "code",
      "execution_count": 30,
      "metadata": {
        "id": "GbOyVPgvgpK1"
      },
      "outputs": [],
      "source": [
        "retriever = db.as_retriever(search_type='mmr', search_kwargs={'k': 5, 'lambda_mult': 1})"
      ]
    },
    {
      "cell_type": "code",
      "execution_count": 34,
      "metadata": {
        "colab": {
          "base_uri": "https://localhost:8080/"
        },
        "id": "TCjcubnXgpK1",
        "outputId": "fbe2946d-9baa-4fbe-854e-dc8845e98b00"
      },
      "outputs": [
        {
          "output_type": "execute_result",
          "data": {
            "text/plain": [
              "[Document(page_content='{\"dataset_name\": \"flight_reservations\", \"table_name\": \"reservations\", \"description\": \"The `reservations` table keeps track of all flight bookings, linking them to customers and flights and recording when the reservation was made and its current status.\", \"example_queries\": [\"Find all reservations made by a specific customer.\", \"Show all reservations for a particular flight.\", \"Retrieve reservations made within a specific time period.\", \"Which reservations have a particular status (e.g., confirmed, cancelled, etc.)?\", \"List the reservations in chronological order.\"]}', metadata={'source': '/content/tables.jsonl', 'seq_num': 33}),\n",
              " Document(page_content='{\"dataset_name\": \"flight_reservations\", \"table_name\": \"transactions\", \"description\": \"The `transactions` table documents all payment transactions related to flight reservations, including the reservation they pertain to, the amount paid, and when the transaction took place.\", \"example_queries\": [\"Find all transactions associated with a specific reservation.\", \"Show all transactions above a certain amount.\", \"Retrieve transactions that took place in a specific time frame.\", \"Which reservations have associated transactions?\", \"List all transactions in order of amount.\"]}', metadata={'source': '/content/tables.jsonl', 'seq_num': 34}),\n",
              " Document(page_content='{\"dataset_name\": \"flight_reservations\", \"table_name\": \"flights\", \"description\": \"The `flights` table logs details about each flight, including origin, destination, departure and arrival times, the carrier, and the price.\", \"example_queries\": [\"Find all flights departing from a specific location.\", \"Show all flights to a particular destination.\", \"Retrieve flights with departure or arrival at a specific time frame.\", \"Which flights are operated by a particular carrier?\", \"List all flights within a specific price range.\"]}', metadata={'source': '/content/tables.jsonl', 'seq_num': 32}),\n",
              " Document(page_content='{\"dataset_name\": \"hotel_reservations\", \"table_name\": \"reservations\", \"description\": \"The `reservations` table chronicles all the bookings made by users. Each record stands for a unique reservation.\", \"example_queries\": [\"Retrieve all my past reservations.\", \"Cancel my reservation for tomorrow.\", \"Show upcoming reservations for this month.\", \"Find reservations made using discount code XYZ.\", \"List all cancelled reservations.\"]}', metadata={'source': '/content/tables.jsonl', 'seq_num': 3}),\n",
              " Document(page_content='{\"dataset_name\": \"hotel_reservations\", \"table_name\": \"inventory\", \"description\": \"The `inventory` table tracks the availability and status of rooms in each hotel.\", \"example_queries\": [\"Show available rooms for Hotel XYZ for the next week.\", \"List all rooms currently under maintenance.\", \"Find rooms that have been vacant for more than 30 days.\", \"Which hotels are fully booked for Christmas?\", \"Retrieve the last cleaning date for each room.\"]}', metadata={'source': '/content/tables.jsonl', 'seq_num': 12})]"
            ]
          },
          "metadata": {},
          "execution_count": 34
        }
      ],
      "source": [
        "\n",
        "matched_documents = retriever.get_relevant_documents(query=query)\n",
        "matched_documents\n"
      ]
    },
    {
      "cell_type": "code",
      "execution_count": 32,
      "metadata": {
        "colab": {
          "base_uri": "https://localhost:8080/"
        },
        "id": "ZISn-1lPgpK1",
        "outputId": "76f74ce6-7dd1-4500-de0f-b7dab25127a0"
      },
      "outputs": [
        {
          "output_type": "stream",
          "name": "stderr",
          "text": [
            "Matched tables = ['flight_reservations.reservations', 'flight_reservations.transactions', 'flight_reservations.flights', 'hotel_reservations.reservations', 'hotel_reservations.inventory']\n",
            "INFO:langchain:Matched tables = ['flight_reservations.reservations', 'flight_reservations.transactions', 'flight_reservations.flights', 'hotel_reservations.reservations', 'hotel_reservations.inventory']\n"
          ]
        }
      ],
      "source": [
        "matched_tables = []\n",
        "\n",
        "for document in matched_documents:\n",
        "    page_content = document.page_content\n",
        "    page_content = json.loads(page_content)\n",
        "    dataset_name = page_content['dataset_name']\n",
        "    table_name = page_content['table_name']\n",
        "    matched_tables.append(f'{dataset_name}.{table_name}')\n",
        "\n",
        "logger.info(f'Matched tables = {matched_tables}')\n",
        ""
      ]
    },
    {
      "cell_type": "markdown",
      "metadata": {
        "id": "pr4FbxupgpK2"
      },
      "source": [
        "#### Step 3: Embed and index columns info\n",
        ""
      ]
    },
    {
      "cell_type": "code",
      "execution_count": 36,
      "metadata": {
        "id": "_zc3ygE_gpK2"
      },
      "outputs": [],
      "source": [
        "documents = JSONLoader(file_path='/content/columns.jsonl', jq_schema='.', text_content=False, json_lines=True).load()\n",
        "db = FAISS.from_documents(documents=documents, embedding=embedding)"
      ]
    },
    {
      "cell_type": "code",
      "execution_count": 37,
      "metadata": {
        "colab": {
          "base_uri": "https://localhost:8080/"
        },
        "id": "jwSBUrJwgpK2",
        "outputId": "98b337d2-837b-4312-9217-eadbaa8e254c"
      },
      "outputs": [
        {
          "output_type": "execute_result",
          "data": {
            "text/plain": [
              "Document(page_content='{\"dataset_name\": \"hotel_reservations\", \"table_name\": \"hotels\", \"column_name\": \"hotel_id\", \"description\": \"A unique identifier assigned to each hotel.\", \"usage\": \"This ID helps in maintaining a distinct record for each hotel and acts as a primary key. It\\'s also used for referencing in other tables like Rooms.\", \"data_type\": \"INT64\"}', metadata={'source': '/content/columns.jsonl', 'seq_num': 1})"
            ]
          },
          "metadata": {},
          "execution_count": 37
        }
      ],
      "source": [
        "documents[0]"
      ]
    },
    {
      "cell_type": "markdown",
      "metadata": {
        "id": "F21NFLaMgpK2"
      },
      "source": [
        "#### Step 4: Match indexed columns embedding to incoming query"
      ]
    },
    {
      "cell_type": "code",
      "execution_count": 38,
      "metadata": {
        "id": "ykWiI_kKgpK2"
      },
      "outputs": [],
      "source": [
        "search_kwargs = {\n",
        "    'k': 20\n",
        "}\n",
        "\n",
        "retriever = db.as_retriever(search_type='similarity', search_kwargs=search_kwargs)"
      ]
    },
    {
      "cell_type": "code",
      "execution_count": 39,
      "metadata": {
        "colab": {
          "base_uri": "https://localhost:8080/"
        },
        "id": "kWwWUzSCgpK2",
        "outputId": "ed972c5f-8d75-4c95-e2de-74b50484eedc"
      },
      "outputs": [
        {
          "output_type": "stream",
          "name": "stderr",
          "text": [
            "[Document(page_content='{\"dataset_name\": \"flight_reservations\", \"table_name\": \"reservations\", \"column_name\": \"reservation_datetime\", \"description\": \"Timestamp of when the reservation was made.\", \"usage\": \"Helps track reservation history and manage bookings.\", \"data_type\": \"DATETIME\"}', metadata={'source': '/content/columns.jsonl', 'seq_num': 62}), Document(page_content='{\"dataset_name\": \"flight_reservations\", \"table_name\": \"flights\", \"column_name\": \"departure_datetime\", \"description\": \"The departure time of the flight.\", \"usage\": \"Informs users and helps them plan their travel.\", \"data_type\": \"DATETIME\"}', metadata={'source': '/content/columns.jsonl', 'seq_num': 55}), Document(page_content='{\"dataset_name\": \"flight_reservations\", \"table_name\": \"flights\", \"column_name\": \"origin\", \"description\": \"The departure location of the flight.\", \"usage\": \"Helps users find flights based on their travel plans.\", \"data_type\": \"STRING\"}', metadata={'source': '/content/columns.jsonl', 'seq_num': 53}), Document(page_content='{\"dataset_name\": \"flight_reservations\", \"table_name\": \"flights\", \"column_name\": \"destination\", \"description\": \"The arrival location of the flight.\", \"usage\": \"Used to find flights and plan journeys.\", \"data_type\": \"STRING\"}', metadata={'source': '/content/columns.jsonl', 'seq_num': 54}), Document(page_content='{\"dataset_name\": \"flight_reservations\", \"table_name\": \"transactions\", \"column_name\": \"transaction_datetime\", \"description\": \"Timestamp of when the transaction occurred.\", \"usage\": \"Used for financial records, reporting, and auditing.\", \"data_type\": \"DATETIME\"}', metadata={'source': '/content/columns.jsonl', 'seq_num': 67}), Document(page_content='{\"dataset_name\": \"flight_reservations\", \"table_name\": \"flights\", \"column_name\": \"arrival_datetime\", \"description\": \"The arrival time of the flight.\", \"usage\": \"Informs users and helps them plan their travel.\", \"data_type\": \"DATETIME\"}', metadata={'source': '/content/columns.jsonl', 'seq_num': 56}), Document(page_content='{\"dataset_name\": \"flight_reservations\", \"table_name\": \"customers\", \"column_name\": \"created_at\", \"description\": \"Timestamp of when the customer data was added to the database.\", \"usage\": \"Helps track customer tenure and data age.\", \"data_type\": \"DATETIME\"}', metadata={'source': '/content/columns.jsonl', 'seq_num': 51}), Document(page_content='{\"dataset_name\": \"flight_reservations\", \"table_name\": \"customers\", \"column_name\": \"date_of_birth\", \"description\": \"The birth date of the customer.\", \"usage\": \"May be used for age verification and personalized offers.\", \"data_type\": \"DATE\"}', metadata={'source': '/content/columns.jsonl', 'seq_num': 50}), Document(page_content='{\"dataset_name\": \"flight_reservations\", \"table_name\": \"reservations\", \"column_name\": \"status\", \"description\": \"The status of the reservation (e.g., confirmed, cancelled).\", \"usage\": \"Informs users and staff of the current state of the reservation.\", \"data_type\": \"STRING\"}', metadata={'source': '/content/columns.jsonl', 'seq_num': 63}), Document(page_content='{\"dataset_name\": \"flight_reservations\", \"table_name\": \"transactions\", \"column_name\": \"reservation_id\", \"description\": \"A unique identifier for each reservation.\", \"usage\": \"Used to uniquely identify and manage reservation records.\", \"data_type\": \"INT64\"}', metadata={'source': '/content/columns.jsonl', 'seq_num': 65}), Document(page_content='{\"dataset_name\": \"hotel_reservations\", \"table_name\": \"reservations\", \"column_name\": \"start_date\", \"description\": \"Indicates the beginning date of the reservation.\", \"usage\": \"Helps in determining room availability and the user\\'s stay period.\", \"data_type\": \"DATE\"}', metadata={'source': '/content/columns.jsonl', 'seq_num': 8}), Document(page_content='{\"dataset_name\": \"flight_reservations\", \"table_name\": \"flights\", \"column_name\": \"carrier\", \"description\": \"The airline operating the flight.\", \"usage\": \"Provides users with the choice of airline and informs about the operator.\", \"data_type\": \"STRING\"}', metadata={'source': '/content/columns.jsonl', 'seq_num': 57}), Document(page_content='{\"dataset_name\": \"flight_reservations\", \"table_name\": \"transactions\", \"column_name\": \"amount\", \"description\": \"The monetary value of the transaction.\", \"usage\": \"Used for accounting and financial tracking.\", \"data_type\": \"FLOAT64\"}', metadata={'source': '/content/columns.jsonl', 'seq_num': 66}), Document(page_content='{\"dataset_name\": \"flight_reservations\", \"table_name\": \"reservations\", \"column_name\": \"reservation_id\", \"description\": \"A unique identifier for each reservation.\", \"usage\": \"Used to uniquely identify and manage reservation records.\", \"data_type\": \"INT64\"}', metadata={'source': '/content/columns.jsonl', 'seq_num': 59}), Document(page_content='{\"dataset_name\": \"hotel_reservations\", \"table_name\": \"reservations\", \"column_name\": \"end_date\", \"description\": \"Marks the termination date of the reservation.\", \"usage\": \"Assists in room inventory management and billing.\", \"data_type\": \"DATE\"}', metadata={'source': '/content/columns.jsonl', 'seq_num': 9}), Document(page_content='{\"dataset_name\": \"flight_reservations\", \"table_name\": \"transactions\", \"column_name\": \"transaction_id\", \"description\": \"A unique identifier for each transaction.\", \"usage\": \"Ensures each transaction is distinct and can be tracked separately.\", \"data_type\": \"INT64\"}', metadata={'source': '/content/columns.jsonl', 'seq_num': 64}), Document(page_content='{\"dataset_name\": \"hotel_reservations\", \"table_name\": \"events\", \"column_name\": \"date\", \"description\": \"The date on which the event is scheduled.\", \"usage\": \"Used for event planning and scheduling.\", \"data_type\": \"STRING\"}', metadata={'source': '/content/columns.jsonl', 'seq_num': 45}), Document(page_content='{\"dataset_name\": \"flight_reservations\", \"table_name\": \"flights\", \"column_name\": \"flight_id\", \"description\": \"A unique identifier for each flight.\", \"usage\": \"Used to uniquely identify and manage flight records.\", \"data_type\": \"INT64\"}', metadata={'source': '/content/columns.jsonl', 'seq_num': 52}), Document(page_content='{\"dataset_name\": \"flight_reservations\", \"table_name\": \"reservations\", \"column_name\": \"flight_id\", \"description\": \"A unique identifier for each flight.\", \"usage\": \"Used to uniquely identify and manage flight records.\", \"data_type\": \"INT64\"}', metadata={'source': '/content/columns.jsonl', 'seq_num': 61}), Document(page_content='{\"dataset_name\": \"flight_reservations\", \"table_name\": \"reservations\", \"column_name\": \"customer_id\", \"description\": \"A unique identifier assigned to each customer.\", \"usage\": \"Ensures each customer is distinct and can be referenced in reservations.\", \"data_type\": \"INT64\"}', metadata={'source': '/content/columns.jsonl', 'seq_num': 60})]\n",
            "INFO:langchain:[Document(page_content='{\"dataset_name\": \"flight_reservations\", \"table_name\": \"reservations\", \"column_name\": \"reservation_datetime\", \"description\": \"Timestamp of when the reservation was made.\", \"usage\": \"Helps track reservation history and manage bookings.\", \"data_type\": \"DATETIME\"}', metadata={'source': '/content/columns.jsonl', 'seq_num': 62}), Document(page_content='{\"dataset_name\": \"flight_reservations\", \"table_name\": \"flights\", \"column_name\": \"departure_datetime\", \"description\": \"The departure time of the flight.\", \"usage\": \"Informs users and helps them plan their travel.\", \"data_type\": \"DATETIME\"}', metadata={'source': '/content/columns.jsonl', 'seq_num': 55}), Document(page_content='{\"dataset_name\": \"flight_reservations\", \"table_name\": \"flights\", \"column_name\": \"origin\", \"description\": \"The departure location of the flight.\", \"usage\": \"Helps users find flights based on their travel plans.\", \"data_type\": \"STRING\"}', metadata={'source': '/content/columns.jsonl', 'seq_num': 53}), Document(page_content='{\"dataset_name\": \"flight_reservations\", \"table_name\": \"flights\", \"column_name\": \"destination\", \"description\": \"The arrival location of the flight.\", \"usage\": \"Used to find flights and plan journeys.\", \"data_type\": \"STRING\"}', metadata={'source': '/content/columns.jsonl', 'seq_num': 54}), Document(page_content='{\"dataset_name\": \"flight_reservations\", \"table_name\": \"transactions\", \"column_name\": \"transaction_datetime\", \"description\": \"Timestamp of when the transaction occurred.\", \"usage\": \"Used for financial records, reporting, and auditing.\", \"data_type\": \"DATETIME\"}', metadata={'source': '/content/columns.jsonl', 'seq_num': 67}), Document(page_content='{\"dataset_name\": \"flight_reservations\", \"table_name\": \"flights\", \"column_name\": \"arrival_datetime\", \"description\": \"The arrival time of the flight.\", \"usage\": \"Informs users and helps them plan their travel.\", \"data_type\": \"DATETIME\"}', metadata={'source': '/content/columns.jsonl', 'seq_num': 56}), Document(page_content='{\"dataset_name\": \"flight_reservations\", \"table_name\": \"customers\", \"column_name\": \"created_at\", \"description\": \"Timestamp of when the customer data was added to the database.\", \"usage\": \"Helps track customer tenure and data age.\", \"data_type\": \"DATETIME\"}', metadata={'source': '/content/columns.jsonl', 'seq_num': 51}), Document(page_content='{\"dataset_name\": \"flight_reservations\", \"table_name\": \"customers\", \"column_name\": \"date_of_birth\", \"description\": \"The birth date of the customer.\", \"usage\": \"May be used for age verification and personalized offers.\", \"data_type\": \"DATE\"}', metadata={'source': '/content/columns.jsonl', 'seq_num': 50}), Document(page_content='{\"dataset_name\": \"flight_reservations\", \"table_name\": \"reservations\", \"column_name\": \"status\", \"description\": \"The status of the reservation (e.g., confirmed, cancelled).\", \"usage\": \"Informs users and staff of the current state of the reservation.\", \"data_type\": \"STRING\"}', metadata={'source': '/content/columns.jsonl', 'seq_num': 63}), Document(page_content='{\"dataset_name\": \"flight_reservations\", \"table_name\": \"transactions\", \"column_name\": \"reservation_id\", \"description\": \"A unique identifier for each reservation.\", \"usage\": \"Used to uniquely identify and manage reservation records.\", \"data_type\": \"INT64\"}', metadata={'source': '/content/columns.jsonl', 'seq_num': 65}), Document(page_content='{\"dataset_name\": \"hotel_reservations\", \"table_name\": \"reservations\", \"column_name\": \"start_date\", \"description\": \"Indicates the beginning date of the reservation.\", \"usage\": \"Helps in determining room availability and the user\\'s stay period.\", \"data_type\": \"DATE\"}', metadata={'source': '/content/columns.jsonl', 'seq_num': 8}), Document(page_content='{\"dataset_name\": \"flight_reservations\", \"table_name\": \"flights\", \"column_name\": \"carrier\", \"description\": \"The airline operating the flight.\", \"usage\": \"Provides users with the choice of airline and informs about the operator.\", \"data_type\": \"STRING\"}', metadata={'source': '/content/columns.jsonl', 'seq_num': 57}), Document(page_content='{\"dataset_name\": \"flight_reservations\", \"table_name\": \"transactions\", \"column_name\": \"amount\", \"description\": \"The monetary value of the transaction.\", \"usage\": \"Used for accounting and financial tracking.\", \"data_type\": \"FLOAT64\"}', metadata={'source': '/content/columns.jsonl', 'seq_num': 66}), Document(page_content='{\"dataset_name\": \"flight_reservations\", \"table_name\": \"reservations\", \"column_name\": \"reservation_id\", \"description\": \"A unique identifier for each reservation.\", \"usage\": \"Used to uniquely identify and manage reservation records.\", \"data_type\": \"INT64\"}', metadata={'source': '/content/columns.jsonl', 'seq_num': 59}), Document(page_content='{\"dataset_name\": \"hotel_reservations\", \"table_name\": \"reservations\", \"column_name\": \"end_date\", \"description\": \"Marks the termination date of the reservation.\", \"usage\": \"Assists in room inventory management and billing.\", \"data_type\": \"DATE\"}', metadata={'source': '/content/columns.jsonl', 'seq_num': 9}), Document(page_content='{\"dataset_name\": \"flight_reservations\", \"table_name\": \"transactions\", \"column_name\": \"transaction_id\", \"description\": \"A unique identifier for each transaction.\", \"usage\": \"Ensures each transaction is distinct and can be tracked separately.\", \"data_type\": \"INT64\"}', metadata={'source': '/content/columns.jsonl', 'seq_num': 64}), Document(page_content='{\"dataset_name\": \"hotel_reservations\", \"table_name\": \"events\", \"column_name\": \"date\", \"description\": \"The date on which the event is scheduled.\", \"usage\": \"Used for event planning and scheduling.\", \"data_type\": \"STRING\"}', metadata={'source': '/content/columns.jsonl', 'seq_num': 45}), Document(page_content='{\"dataset_name\": \"flight_reservations\", \"table_name\": \"flights\", \"column_name\": \"flight_id\", \"description\": \"A unique identifier for each flight.\", \"usage\": \"Used to uniquely identify and manage flight records.\", \"data_type\": \"INT64\"}', metadata={'source': '/content/columns.jsonl', 'seq_num': 52}), Document(page_content='{\"dataset_name\": \"flight_reservations\", \"table_name\": \"reservations\", \"column_name\": \"flight_id\", \"description\": \"A unique identifier for each flight.\", \"usage\": \"Used to uniquely identify and manage flight records.\", \"data_type\": \"INT64\"}', metadata={'source': '/content/columns.jsonl', 'seq_num': 61}), Document(page_content='{\"dataset_name\": \"flight_reservations\", \"table_name\": \"reservations\", \"column_name\": \"customer_id\", \"description\": \"A unique identifier assigned to each customer.\", \"usage\": \"Ensures each customer is distinct and can be referenced in reservations.\", \"data_type\": \"INT64\"}', metadata={'source': '/content/columns.jsonl', 'seq_num': 60})]\n"
          ]
        }
      ],
      "source": [
        "matched_columns = retriever.get_relevant_documents(query=query)\n",
        "logger.info(matched_columns)"
      ]
    },
    {
      "cell_type": "code",
      "execution_count": 51,
      "metadata": {
        "colab": {
          "base_uri": "https://localhost:8080/"
        },
        "id": "ROCG9vhVgpK2",
        "outputId": "cd80ea12-7ee5-442b-9be5-f37d9dd3a6f3"
      },
      "outputs": [
        {
          "output_type": "stream",
          "name": "stderr",
          "text": [
            "[{'dataset_name': 'flight_reservations', 'table_name': 'reservations', 'column_name': 'reservation_datetime', 'description': 'Timestamp of when the reservation was made.', 'usage': 'Helps track reservation history and manage bookings.', 'data_type': 'DATETIME'}, {'dataset_name': 'flight_reservations', 'table_name': 'flights', 'column_name': 'departure_datetime', 'description': 'The departure time of the flight.', 'usage': 'Informs users and helps them plan their travel.', 'data_type': 'DATETIME'}, {'dataset_name': 'flight_reservations', 'table_name': 'flights', 'column_name': 'origin', 'description': 'The departure location of the flight.', 'usage': 'Helps users find flights based on their travel plans.', 'data_type': 'STRING'}, {'dataset_name': 'flight_reservations', 'table_name': 'flights', 'column_name': 'destination', 'description': 'The arrival location of the flight.', 'usage': 'Used to find flights and plan journeys.', 'data_type': 'STRING'}, {'dataset_name': 'flight_reservations', 'table_name': 'transactions', 'column_name': 'transaction_datetime', 'description': 'Timestamp of when the transaction occurred.', 'usage': 'Used for financial records, reporting, and auditing.', 'data_type': 'DATETIME'}, {'dataset_name': 'flight_reservations', 'table_name': 'flights', 'column_name': 'arrival_datetime', 'description': 'The arrival time of the flight.', 'usage': 'Informs users and helps them plan their travel.', 'data_type': 'DATETIME'}, {'dataset_name': 'flight_reservations', 'table_name': 'customers', 'column_name': 'created_at', 'description': 'Timestamp of when the customer data was added to the database.', 'usage': 'Helps track customer tenure and data age.', 'data_type': 'DATETIME'}, {'dataset_name': 'flight_reservations', 'table_name': 'customers', 'column_name': 'date_of_birth', 'description': 'The birth date of the customer.', 'usage': 'May be used for age verification and personalized offers.', 'data_type': 'DATE'}, {'dataset_name': 'flight_reservations', 'table_name': 'reservations', 'column_name': 'status', 'description': 'The status of the reservation (e.g., confirmed, cancelled).', 'usage': 'Informs users and staff of the current state of the reservation.', 'data_type': 'STRING'}, {'dataset_name': 'flight_reservations', 'table_name': 'transactions', 'column_name': 'reservation_id', 'description': 'A unique identifier for each reservation.', 'usage': 'Used to uniquely identify and manage reservation records.', 'data_type': 'INT64'}, {'dataset_name': 'flight_reservations', 'table_name': 'flights', 'column_name': 'carrier', 'description': 'The airline operating the flight.', 'usage': 'Provides users with the choice of airline and informs about the operator.', 'data_type': 'STRING'}, {'dataset_name': 'flight_reservations', 'table_name': 'transactions', 'column_name': 'amount', 'description': 'The monetary value of the transaction.', 'usage': 'Used for accounting and financial tracking.', 'data_type': 'FLOAT64'}, {'dataset_name': 'flight_reservations', 'table_name': 'reservations', 'column_name': 'reservation_id', 'description': 'A unique identifier for each reservation.', 'usage': 'Used to uniquely identify and manage reservation records.', 'data_type': 'INT64'}, {'dataset_name': 'flight_reservations', 'table_name': 'transactions', 'column_name': 'transaction_id', 'description': 'A unique identifier for each transaction.', 'usage': 'Ensures each transaction is distinct and can be tracked separately.', 'data_type': 'INT64'}, {'dataset_name': 'flight_reservations', 'table_name': 'flights', 'column_name': 'flight_id', 'description': 'A unique identifier for each flight.', 'usage': 'Used to uniquely identify and manage flight records.', 'data_type': 'INT64'}, {'dataset_name': 'flight_reservations', 'table_name': 'reservations', 'column_name': 'flight_id', 'description': 'A unique identifier for each flight.', 'usage': 'Used to uniquely identify and manage flight records.', 'data_type': 'INT64'}, {'dataset_name': 'flight_reservations', 'table_name': 'reservations', 'column_name': 'customer_id', 'description': 'A unique identifier assigned to each customer.', 'usage': 'Ensures each customer is distinct and can be referenced in reservations.', 'data_type': 'INT64'}]\n",
            "INFO:langchain:[{'dataset_name': 'flight_reservations', 'table_name': 'reservations', 'column_name': 'reservation_datetime', 'description': 'Timestamp of when the reservation was made.', 'usage': 'Helps track reservation history and manage bookings.', 'data_type': 'DATETIME'}, {'dataset_name': 'flight_reservations', 'table_name': 'flights', 'column_name': 'departure_datetime', 'description': 'The departure time of the flight.', 'usage': 'Informs users and helps them plan their travel.', 'data_type': 'DATETIME'}, {'dataset_name': 'flight_reservations', 'table_name': 'flights', 'column_name': 'origin', 'description': 'The departure location of the flight.', 'usage': 'Helps users find flights based on their travel plans.', 'data_type': 'STRING'}, {'dataset_name': 'flight_reservations', 'table_name': 'flights', 'column_name': 'destination', 'description': 'The arrival location of the flight.', 'usage': 'Used to find flights and plan journeys.', 'data_type': 'STRING'}, {'dataset_name': 'flight_reservations', 'table_name': 'transactions', 'column_name': 'transaction_datetime', 'description': 'Timestamp of when the transaction occurred.', 'usage': 'Used for financial records, reporting, and auditing.', 'data_type': 'DATETIME'}, {'dataset_name': 'flight_reservations', 'table_name': 'flights', 'column_name': 'arrival_datetime', 'description': 'The arrival time of the flight.', 'usage': 'Informs users and helps them plan their travel.', 'data_type': 'DATETIME'}, {'dataset_name': 'flight_reservations', 'table_name': 'customers', 'column_name': 'created_at', 'description': 'Timestamp of when the customer data was added to the database.', 'usage': 'Helps track customer tenure and data age.', 'data_type': 'DATETIME'}, {'dataset_name': 'flight_reservations', 'table_name': 'customers', 'column_name': 'date_of_birth', 'description': 'The birth date of the customer.', 'usage': 'May be used for age verification and personalized offers.', 'data_type': 'DATE'}, {'dataset_name': 'flight_reservations', 'table_name': 'reservations', 'column_name': 'status', 'description': 'The status of the reservation (e.g., confirmed, cancelled).', 'usage': 'Informs users and staff of the current state of the reservation.', 'data_type': 'STRING'}, {'dataset_name': 'flight_reservations', 'table_name': 'transactions', 'column_name': 'reservation_id', 'description': 'A unique identifier for each reservation.', 'usage': 'Used to uniquely identify and manage reservation records.', 'data_type': 'INT64'}, {'dataset_name': 'flight_reservations', 'table_name': 'flights', 'column_name': 'carrier', 'description': 'The airline operating the flight.', 'usage': 'Provides users with the choice of airline and informs about the operator.', 'data_type': 'STRING'}, {'dataset_name': 'flight_reservations', 'table_name': 'transactions', 'column_name': 'amount', 'description': 'The monetary value of the transaction.', 'usage': 'Used for accounting and financial tracking.', 'data_type': 'FLOAT64'}, {'dataset_name': 'flight_reservations', 'table_name': 'reservations', 'column_name': 'reservation_id', 'description': 'A unique identifier for each reservation.', 'usage': 'Used to uniquely identify and manage reservation records.', 'data_type': 'INT64'}, {'dataset_name': 'flight_reservations', 'table_name': 'transactions', 'column_name': 'transaction_id', 'description': 'A unique identifier for each transaction.', 'usage': 'Ensures each transaction is distinct and can be tracked separately.', 'data_type': 'INT64'}, {'dataset_name': 'flight_reservations', 'table_name': 'flights', 'column_name': 'flight_id', 'description': 'A unique identifier for each flight.', 'usage': 'Used to uniquely identify and manage flight records.', 'data_type': 'INT64'}, {'dataset_name': 'flight_reservations', 'table_name': 'reservations', 'column_name': 'flight_id', 'description': 'A unique identifier for each flight.', 'usage': 'Used to uniquely identify and manage flight records.', 'data_type': 'INT64'}, {'dataset_name': 'flight_reservations', 'table_name': 'reservations', 'column_name': 'customer_id', 'description': 'A unique identifier assigned to each customer.', 'usage': 'Ensures each customer is distinct and can be referenced in reservations.', 'data_type': 'INT64'}]\n"
          ]
        }
      ],
      "source": [
        "matched_columns_filtered = []\n",
        "\n",
        "# LangChain filters does not support multiple values at the moment\n",
        "for i, column in enumerate(matched_columns):\n",
        "    page_content = json.loads(column.page_content)\n",
        "    dataset_name = page_content['dataset_name']\n",
        "    if dataset_name == 'flight_reservations':\n",
        "        matched_columns_filtered.append(page_content)\n",
        "\n",
        "logger.info(matched_columns_filtered)\n"
      ]
    },
    {
      "cell_type": "code",
      "execution_count": 86,
      "metadata": {
        "colab": {
          "base_uri": "https://localhost:8080/"
        },
        "id": "n5tRaV6ygpK2",
        "outputId": "42421e55-e807-468f-eafd-1d087ebdaa3d"
      },
      "outputs": [
        {
          "output_type": "stream",
          "name": "stderr",
          "text": [
            "dataset_name=flight_reservations|table_name=reservations|column_name=reservation_datetime|data_type=DATETIME\n",
            "dataset_name=flight_reservations|table_name=flights|column_name=departure_datetime|data_type=DATETIME\n",
            "dataset_name=flight_reservations|table_name=flights|column_name=origin|data_type=STRING\n",
            "dataset_name=flight_reservations|table_name=flights|column_name=destination|data_type=STRING\n",
            "dataset_name=flight_reservations|table_name=transactions|column_name=transaction_datetime|data_type=DATETIME\n",
            "dataset_name=flight_reservations|table_name=flights|column_name=arrival_datetime|data_type=DATETIME\n",
            "dataset_name=flight_reservations|table_name=customers|column_name=created_at|data_type=DATETIME\n",
            "dataset_name=flight_reservations|table_name=customers|column_name=date_of_birth|data_type=DATE\n",
            "dataset_name=flight_reservations|table_name=reservations|column_name=status|data_type=STRING\n",
            "dataset_name=flight_reservations|table_name=transactions|column_name=reservation_id|data_type=INT64\n",
            "dataset_name=flight_reservations|table_name=flights|column_name=carrier|data_type=STRING\n",
            "dataset_name=flight_reservations|table_name=transactions|column_name=amount|data_type=FLOAT64\n",
            "dataset_name=flight_reservations|table_name=reservations|column_name=reservation_id|data_type=INT64\n",
            "dataset_name=flight_reservations|table_name=transactions|column_name=transaction_id|data_type=INT64\n",
            "dataset_name=flight_reservations|table_name=flights|column_name=flight_id|data_type=INT64\n",
            "dataset_name=flight_reservations|table_name=reservations|column_name=flight_id|data_type=INT64\n",
            "dataset_name=flight_reservations|table_name=reservations|column_name=customer_id|data_type=INT64\n",
            "INFO:langchain:dataset_name=flight_reservations|table_name=reservations|column_name=reservation_datetime|data_type=DATETIME\n",
            "dataset_name=flight_reservations|table_name=flights|column_name=departure_datetime|data_type=DATETIME\n",
            "dataset_name=flight_reservations|table_name=flights|column_name=origin|data_type=STRING\n",
            "dataset_name=flight_reservations|table_name=flights|column_name=destination|data_type=STRING\n",
            "dataset_name=flight_reservations|table_name=transactions|column_name=transaction_datetime|data_type=DATETIME\n",
            "dataset_name=flight_reservations|table_name=flights|column_name=arrival_datetime|data_type=DATETIME\n",
            "dataset_name=flight_reservations|table_name=customers|column_name=created_at|data_type=DATETIME\n",
            "dataset_name=flight_reservations|table_name=customers|column_name=date_of_birth|data_type=DATE\n",
            "dataset_name=flight_reservations|table_name=reservations|column_name=status|data_type=STRING\n",
            "dataset_name=flight_reservations|table_name=transactions|column_name=reservation_id|data_type=INT64\n",
            "dataset_name=flight_reservations|table_name=flights|column_name=carrier|data_type=STRING\n",
            "dataset_name=flight_reservations|table_name=transactions|column_name=amount|data_type=FLOAT64\n",
            "dataset_name=flight_reservations|table_name=reservations|column_name=reservation_id|data_type=INT64\n",
            "dataset_name=flight_reservations|table_name=transactions|column_name=transaction_id|data_type=INT64\n",
            "dataset_name=flight_reservations|table_name=flights|column_name=flight_id|data_type=INT64\n",
            "dataset_name=flight_reservations|table_name=reservations|column_name=flight_id|data_type=INT64\n",
            "dataset_name=flight_reservations|table_name=reservations|column_name=customer_id|data_type=INT64\n"
          ]
        }
      ],
      "source": [
        "matched_columns_cleaned = []\n",
        "\n",
        "for doc in matched_columns_filtered:\n",
        "    dataset_name = doc['dataset_name']\n",
        "    table_name = doc['table_name']\n",
        "    column_name = doc['column_name']\n",
        "    data_type = doc['data_type']\n",
        "    matched_columns_cleaned.append(f'dataset_name={dataset_name}|table_name={table_name}|column_name={column_name}|data_type={data_type}')\n",
        "\n",
        "matched_columns_cleaned = '\\n'.join(matched_columns_cleaned)\n",
        "logger.info(matched_columns_cleaned)"
      ]
    },
    {
      "cell_type": "markdown",
      "metadata": {
        "id": "oNWwz50fgpK2"
      },
      "source": [
        "#### Step 5: Text-to-SQL generation"
      ]
    },
    {
      "cell_type": "code",
      "execution_count": 88,
      "metadata": {
        "id": "YRS07OsjgpK2"
      },
      "outputs": [],
      "source": [
        "messages = []"
      ]
    },
    {
      "cell_type": "code",
      "execution_count": 89,
      "metadata": {
        "id": "HyLCNWGVgpK2"
      },
      "outputs": [],
      "source": [
        "template = \"You are a SQL master expert capable of writing complex SQL query in BigQuery.\"\n",
        "system_message_prompt = SystemMessagePromptTemplate.from_template(template)\n",
        "messages.append(system_message_prompt)\n"
      ]
    },
    {
      "cell_type": "code",
      "execution_count": 91,
      "metadata": {
        "id": "65wSYo8FgpK3"
      },
      "outputs": [],
      "source": [
        "human_template = \"\"\"Given the following inputs:\n",
        "USER_QUERY:\n",
        "--\n",
        "{query}\n",
        "--\n",
        "MATCHED_SCHEMA:\n",
        "--\n",
        "{matched_schema}\n",
        "--\n",
        "Please construct a SQL query using the MATCHED_SCHEMA and the USER_QUERY provided above.\n",
        "The goal is to determine the availability of hotels based on the provided info.\n",
        "\n",
        "IMPORTANT: Use ONLY the column names (column_name) mentioned in MATCHED_SCHEMA. DO NOT USE any other column names outside of this.\n",
        "IMPORTANT: Associate column_name mentioned in MATCHED_SCHEMA only to the table_name specified under MATCHED_SCHEMA.\n",
        "NOTE: when referencing table name use full name alongwith dataset name. Dataset name and table name should be seperated by dot\n",
        "NOTE: Use SQL 'AS' statement to assign a new name temporarily to a table column or even a table wherever needed.\n",
        "\"\"\""
      ]
    },
    {
      "cell_type": "code",
      "execution_count": 92,
      "metadata": {
        "id": "QbBlW_IrgpK3"
      },
      "outputs": [],
      "source": [
        "human_message = HumanMessagePromptTemplate.from_template(human_template)\n",
        "messages.append(human_message)"
      ]
    },
    {
      "cell_type": "code",
      "execution_count": 93,
      "metadata": {
        "id": "RVY_p-_GgpK3"
      },
      "outputs": [],
      "source": [
        "chat_prompt = ChatPromptTemplate.from_messages(messages)"
      ]
    },
    {
      "cell_type": "code",
      "execution_count": 94,
      "metadata": {
        "id": "Ufh0xc8HgpK3"
      },
      "outputs": [],
      "source": [
        "request = chat_prompt.format_prompt(query=query,\n",
        "                                    matched_schema=matched_columns_cleaned).to_messages()"
      ]
    },
    {
      "cell_type": "code",
      "execution_count": 95,
      "metadata": {
        "colab": {
          "base_uri": "https://localhost:8080/"
        },
        "id": "LK9oM2xigpK3",
        "outputId": "61e9b730-3205-48bf-a4c8-705a9e39ed2b"
      },
      "outputs": [
        {
          "output_type": "stream",
          "name": "stderr",
          "text": [
            "SELECT \n",
            "    r.reservation_id,\n",
            "    r.reservation_datetime,\n",
            "    r.status,\n",
            "    f.departure_datetime,\n",
            "    f.origin,\n",
            "    f.destination,\n",
            "    f.carrier\n",
            "FROM \n",
            "    flight_reservations.reservations AS r\n",
            "JOIN \n",
            "    flight_reservations.flights AS f\n",
            "ON \n",
            "    r.flight_id = f.flight_id\n",
            "WHERE \n",
            "    r.reservation_datetime BETWEEN '2023-10-10' AND '2023-10-15';\n",
            "INFO:langchain:SELECT \n",
            "    r.reservation_id,\n",
            "    r.reservation_datetime,\n",
            "    r.status,\n",
            "    f.departure_datetime,\n",
            "    f.origin,\n",
            "    f.destination,\n",
            "    f.carrier\n",
            "FROM \n",
            "    flight_reservations.reservations AS r\n",
            "JOIN \n",
            "    flight_reservations.flights AS f\n",
            "ON \n",
            "    r.flight_id = f.flight_id\n",
            "WHERE \n",
            "    r.reservation_datetime BETWEEN '2023-10-10' AND '2023-10-15';\n"
          ]
        },
        {
          "output_type": "stream",
          "name": "stdout",
          "text": [
            "CPU times: user 16.8 ms, sys: 985 µs, total: 17.8 ms\n",
            "Wall time: 1.32 s\n"
          ]
        }
      ],
      "source": [
        "%%time\n",
        "\n",
        "response = llm(request)\n",
        "sql = '\\n'.join(response.content.strip().split('\\n')[1:-1])\n",
        "logger.info(sql)"
      ]
    },
    {
      "cell_type": "markdown",
      "metadata": {
        "id": "iLCB6wZlgpK3"
      },
      "source": [
        "### Step 6: Execute the generated SQL query in BigQuery"
      ]
    },
    {
      "cell_type": "code",
      "execution_count": 96,
      "metadata": {
        "id": "5nrrOk3ngpK3"
      },
      "outputs": [],
      "source": [
        "bq = bigquery.Client()\n"
      ]
    },
    {
      "cell_type": "code",
      "execution_count": 97,
      "metadata": {
        "colab": {
          "base_uri": "https://localhost:8080/",
          "height": 175
        },
        "id": "1hBy28cBgpK3",
        "outputId": "c3f3f4aa-7aa3-44c2-e76a-5c077f1dc7b3"
      },
      "outputs": [
        {
          "output_type": "execute_result",
          "data": {
            "text/plain": [
              "   reservation_id reservation_datetime     status  departure_datetime origin  \\\n",
              "0               6  2023-10-10 10:00:00  Confirmed 2023-11-25 06:00:00    SEA   \n",
              "1               6  2023-10-10 10:00:00  Confirmed 2023-11-25 06:00:00    SEA   \n",
              "2               7  2023-10-12 11:30:00  Confirmed 2023-11-27 20:00:00    JFK   \n",
              "3               7  2023-10-12 11:30:00  Confirmed 2023-11-27 20:00:00    JFK   \n",
              "\n",
              "  destination   carrier  \n",
              "0         JFK    United  \n",
              "1         JFK    United  \n",
              "2         MIA  American  \n",
              "3         MIA  American  "
            ],
            "text/html": [
              "\n",
              "  <div id=\"df-ebcf880b-3bcd-4ec2-bc4d-5dc80c4776ea\" class=\"colab-df-container\">\n",
              "    <div>\n",
              "<style scoped>\n",
              "    .dataframe tbody tr th:only-of-type {\n",
              "        vertical-align: middle;\n",
              "    }\n",
              "\n",
              "    .dataframe tbody tr th {\n",
              "        vertical-align: top;\n",
              "    }\n",
              "\n",
              "    .dataframe thead th {\n",
              "        text-align: right;\n",
              "    }\n",
              "</style>\n",
              "<table border=\"1\" class=\"dataframe\">\n",
              "  <thead>\n",
              "    <tr style=\"text-align: right;\">\n",
              "      <th></th>\n",
              "      <th>reservation_id</th>\n",
              "      <th>reservation_datetime</th>\n",
              "      <th>status</th>\n",
              "      <th>departure_datetime</th>\n",
              "      <th>origin</th>\n",
              "      <th>destination</th>\n",
              "      <th>carrier</th>\n",
              "    </tr>\n",
              "  </thead>\n",
              "  <tbody>\n",
              "    <tr>\n",
              "      <th>0</th>\n",
              "      <td>6</td>\n",
              "      <td>2023-10-10 10:00:00</td>\n",
              "      <td>Confirmed</td>\n",
              "      <td>2023-11-25 06:00:00</td>\n",
              "      <td>SEA</td>\n",
              "      <td>JFK</td>\n",
              "      <td>United</td>\n",
              "    </tr>\n",
              "    <tr>\n",
              "      <th>1</th>\n",
              "      <td>6</td>\n",
              "      <td>2023-10-10 10:00:00</td>\n",
              "      <td>Confirmed</td>\n",
              "      <td>2023-11-25 06:00:00</td>\n",
              "      <td>SEA</td>\n",
              "      <td>JFK</td>\n",
              "      <td>United</td>\n",
              "    </tr>\n",
              "    <tr>\n",
              "      <th>2</th>\n",
              "      <td>7</td>\n",
              "      <td>2023-10-12 11:30:00</td>\n",
              "      <td>Confirmed</td>\n",
              "      <td>2023-11-27 20:00:00</td>\n",
              "      <td>JFK</td>\n",
              "      <td>MIA</td>\n",
              "      <td>American</td>\n",
              "    </tr>\n",
              "    <tr>\n",
              "      <th>3</th>\n",
              "      <td>7</td>\n",
              "      <td>2023-10-12 11:30:00</td>\n",
              "      <td>Confirmed</td>\n",
              "      <td>2023-11-27 20:00:00</td>\n",
              "      <td>JFK</td>\n",
              "      <td>MIA</td>\n",
              "      <td>American</td>\n",
              "    </tr>\n",
              "  </tbody>\n",
              "</table>\n",
              "</div>\n",
              "    <div class=\"colab-df-buttons\">\n",
              "\n",
              "  <div class=\"colab-df-container\">\n",
              "    <button class=\"colab-df-convert\" onclick=\"convertToInteractive('df-ebcf880b-3bcd-4ec2-bc4d-5dc80c4776ea')\"\n",
              "            title=\"Convert this dataframe to an interactive table.\"\n",
              "            style=\"display:none;\">\n",
              "\n",
              "  <svg xmlns=\"http://www.w3.org/2000/svg\" height=\"24px\" viewBox=\"0 -960 960 960\">\n",
              "    <path d=\"M120-120v-720h720v720H120Zm60-500h600v-160H180v160Zm220 220h160v-160H400v160Zm0 220h160v-160H400v160ZM180-400h160v-160H180v160Zm440 0h160v-160H620v160ZM180-180h160v-160H180v160Zm440 0h160v-160H620v160Z\"/>\n",
              "  </svg>\n",
              "    </button>\n",
              "\n",
              "  <style>\n",
              "    .colab-df-container {\n",
              "      display:flex;\n",
              "      gap: 12px;\n",
              "    }\n",
              "\n",
              "    .colab-df-convert {\n",
              "      background-color: #E8F0FE;\n",
              "      border: none;\n",
              "      border-radius: 50%;\n",
              "      cursor: pointer;\n",
              "      display: none;\n",
              "      fill: #1967D2;\n",
              "      height: 32px;\n",
              "      padding: 0 0 0 0;\n",
              "      width: 32px;\n",
              "    }\n",
              "\n",
              "    .colab-df-convert:hover {\n",
              "      background-color: #E2EBFA;\n",
              "      box-shadow: 0px 1px 2px rgba(60, 64, 67, 0.3), 0px 1px 3px 1px rgba(60, 64, 67, 0.15);\n",
              "      fill: #174EA6;\n",
              "    }\n",
              "\n",
              "    .colab-df-buttons div {\n",
              "      margin-bottom: 4px;\n",
              "    }\n",
              "\n",
              "    [theme=dark] .colab-df-convert {\n",
              "      background-color: #3B4455;\n",
              "      fill: #D2E3FC;\n",
              "    }\n",
              "\n",
              "    [theme=dark] .colab-df-convert:hover {\n",
              "      background-color: #434B5C;\n",
              "      box-shadow: 0px 1px 3px 1px rgba(0, 0, 0, 0.15);\n",
              "      filter: drop-shadow(0px 1px 2px rgba(0, 0, 0, 0.3));\n",
              "      fill: #FFFFFF;\n",
              "    }\n",
              "  </style>\n",
              "\n",
              "    <script>\n",
              "      const buttonEl =\n",
              "        document.querySelector('#df-ebcf880b-3bcd-4ec2-bc4d-5dc80c4776ea button.colab-df-convert');\n",
              "      buttonEl.style.display =\n",
              "        google.colab.kernel.accessAllowed ? 'block' : 'none';\n",
              "\n",
              "      async function convertToInteractive(key) {\n",
              "        const element = document.querySelector('#df-ebcf880b-3bcd-4ec2-bc4d-5dc80c4776ea');\n",
              "        const dataTable =\n",
              "          await google.colab.kernel.invokeFunction('convertToInteractive',\n",
              "                                                    [key], {});\n",
              "        if (!dataTable) return;\n",
              "\n",
              "        const docLinkHtml = 'Like what you see? Visit the ' +\n",
              "          '<a target=\"_blank\" href=https://colab.research.google.com/notebooks/data_table.ipynb>data table notebook</a>'\n",
              "          + ' to learn more about interactive tables.';\n",
              "        element.innerHTML = '';\n",
              "        dataTable['output_type'] = 'display_data';\n",
              "        await google.colab.output.renderOutput(dataTable, element);\n",
              "        const docLink = document.createElement('div');\n",
              "        docLink.innerHTML = docLinkHtml;\n",
              "        element.appendChild(docLink);\n",
              "      }\n",
              "    </script>\n",
              "  </div>\n",
              "\n",
              "\n",
              "<div id=\"df-1035532b-ed07-41df-a853-accbf2501363\">\n",
              "  <button class=\"colab-df-quickchart\" onclick=\"quickchart('df-1035532b-ed07-41df-a853-accbf2501363')\"\n",
              "            title=\"Suggest charts\"\n",
              "            style=\"display:none;\">\n",
              "\n",
              "<svg xmlns=\"http://www.w3.org/2000/svg\" height=\"24px\"viewBox=\"0 0 24 24\"\n",
              "     width=\"24px\">\n",
              "    <g>\n",
              "        <path d=\"M19 3H5c-1.1 0-2 .9-2 2v14c0 1.1.9 2 2 2h14c1.1 0 2-.9 2-2V5c0-1.1-.9-2-2-2zM9 17H7v-7h2v7zm4 0h-2V7h2v10zm4 0h-2v-4h2v4z\"/>\n",
              "    </g>\n",
              "</svg>\n",
              "  </button>\n",
              "\n",
              "<style>\n",
              "  .colab-df-quickchart {\n",
              "      --bg-color: #E8F0FE;\n",
              "      --fill-color: #1967D2;\n",
              "      --hover-bg-color: #E2EBFA;\n",
              "      --hover-fill-color: #174EA6;\n",
              "      --disabled-fill-color: #AAA;\n",
              "      --disabled-bg-color: #DDD;\n",
              "  }\n",
              "\n",
              "  [theme=dark] .colab-df-quickchart {\n",
              "      --bg-color: #3B4455;\n",
              "      --fill-color: #D2E3FC;\n",
              "      --hover-bg-color: #434B5C;\n",
              "      --hover-fill-color: #FFFFFF;\n",
              "      --disabled-bg-color: #3B4455;\n",
              "      --disabled-fill-color: #666;\n",
              "  }\n",
              "\n",
              "  .colab-df-quickchart {\n",
              "    background-color: var(--bg-color);\n",
              "    border: none;\n",
              "    border-radius: 50%;\n",
              "    cursor: pointer;\n",
              "    display: none;\n",
              "    fill: var(--fill-color);\n",
              "    height: 32px;\n",
              "    padding: 0;\n",
              "    width: 32px;\n",
              "  }\n",
              "\n",
              "  .colab-df-quickchart:hover {\n",
              "    background-color: var(--hover-bg-color);\n",
              "    box-shadow: 0 1px 2px rgba(60, 64, 67, 0.3), 0 1px 3px 1px rgba(60, 64, 67, 0.15);\n",
              "    fill: var(--button-hover-fill-color);\n",
              "  }\n",
              "\n",
              "  .colab-df-quickchart-complete:disabled,\n",
              "  .colab-df-quickchart-complete:disabled:hover {\n",
              "    background-color: var(--disabled-bg-color);\n",
              "    fill: var(--disabled-fill-color);\n",
              "    box-shadow: none;\n",
              "  }\n",
              "\n",
              "  .colab-df-spinner {\n",
              "    border: 2px solid var(--fill-color);\n",
              "    border-color: transparent;\n",
              "    border-bottom-color: var(--fill-color);\n",
              "    animation:\n",
              "      spin 1s steps(1) infinite;\n",
              "  }\n",
              "\n",
              "  @keyframes spin {\n",
              "    0% {\n",
              "      border-color: transparent;\n",
              "      border-bottom-color: var(--fill-color);\n",
              "      border-left-color: var(--fill-color);\n",
              "    }\n",
              "    20% {\n",
              "      border-color: transparent;\n",
              "      border-left-color: var(--fill-color);\n",
              "      border-top-color: var(--fill-color);\n",
              "    }\n",
              "    30% {\n",
              "      border-color: transparent;\n",
              "      border-left-color: var(--fill-color);\n",
              "      border-top-color: var(--fill-color);\n",
              "      border-right-color: var(--fill-color);\n",
              "    }\n",
              "    40% {\n",
              "      border-color: transparent;\n",
              "      border-right-color: var(--fill-color);\n",
              "      border-top-color: var(--fill-color);\n",
              "    }\n",
              "    60% {\n",
              "      border-color: transparent;\n",
              "      border-right-color: var(--fill-color);\n",
              "    }\n",
              "    80% {\n",
              "      border-color: transparent;\n",
              "      border-right-color: var(--fill-color);\n",
              "      border-bottom-color: var(--fill-color);\n",
              "    }\n",
              "    90% {\n",
              "      border-color: transparent;\n",
              "      border-bottom-color: var(--fill-color);\n",
              "    }\n",
              "  }\n",
              "</style>\n",
              "\n",
              "  <script>\n",
              "    async function quickchart(key) {\n",
              "      const quickchartButtonEl =\n",
              "        document.querySelector('#' + key + ' button');\n",
              "      quickchartButtonEl.disabled = true;  // To prevent multiple clicks.\n",
              "      quickchartButtonEl.classList.add('colab-df-spinner');\n",
              "      try {\n",
              "        const charts = await google.colab.kernel.invokeFunction(\n",
              "            'suggestCharts', [key], {});\n",
              "      } catch (error) {\n",
              "        console.error('Error during call to suggestCharts:', error);\n",
              "      }\n",
              "      quickchartButtonEl.classList.remove('colab-df-spinner');\n",
              "      quickchartButtonEl.classList.add('colab-df-quickchart-complete');\n",
              "    }\n",
              "    (() => {\n",
              "      let quickchartButtonEl =\n",
              "        document.querySelector('#df-1035532b-ed07-41df-a853-accbf2501363 button');\n",
              "      quickchartButtonEl.style.display =\n",
              "        google.colab.kernel.accessAllowed ? 'block' : 'none';\n",
              "    })();\n",
              "  </script>\n",
              "</div>\n",
              "\n",
              "  <div id=\"id_bc391d68-dcb8-495d-9fea-ec17a4a94356\">\n",
              "    <style>\n",
              "      .colab-df-generate {\n",
              "        background-color: #E8F0FE;\n",
              "        border: none;\n",
              "        border-radius: 50%;\n",
              "        cursor: pointer;\n",
              "        display: none;\n",
              "        fill: #1967D2;\n",
              "        height: 32px;\n",
              "        padding: 0 0 0 0;\n",
              "        width: 32px;\n",
              "      }\n",
              "\n",
              "      .colab-df-generate:hover {\n",
              "        background-color: #E2EBFA;\n",
              "        box-shadow: 0px 1px 2px rgba(60, 64, 67, 0.3), 0px 1px 3px 1px rgba(60, 64, 67, 0.15);\n",
              "        fill: #174EA6;\n",
              "      }\n",
              "\n",
              "      [theme=dark] .colab-df-generate {\n",
              "        background-color: #3B4455;\n",
              "        fill: #D2E3FC;\n",
              "      }\n",
              "\n",
              "      [theme=dark] .colab-df-generate:hover {\n",
              "        background-color: #434B5C;\n",
              "        box-shadow: 0px 1px 3px 1px rgba(0, 0, 0, 0.15);\n",
              "        filter: drop-shadow(0px 1px 2px rgba(0, 0, 0, 0.3));\n",
              "        fill: #FFFFFF;\n",
              "      }\n",
              "    </style>\n",
              "    <button class=\"colab-df-generate\" onclick=\"generateWithVariable('df')\"\n",
              "            title=\"Generate code using this dataframe.\"\n",
              "            style=\"display:none;\">\n",
              "\n",
              "  <svg xmlns=\"http://www.w3.org/2000/svg\" height=\"24px\"viewBox=\"0 0 24 24\"\n",
              "       width=\"24px\">\n",
              "    <path d=\"M7,19H8.4L18.45,9,17,7.55,7,17.6ZM5,21V16.75L18.45,3.32a2,2,0,0,1,2.83,0l1.4,1.43a1.91,1.91,0,0,1,.58,1.4,1.91,1.91,0,0,1-.58,1.4L9.25,21ZM18.45,9,17,7.55Zm-12,3A5.31,5.31,0,0,0,4.9,8.1,5.31,5.31,0,0,0,1,6.5,5.31,5.31,0,0,0,4.9,4.9,5.31,5.31,0,0,0,6.5,1,5.31,5.31,0,0,0,8.1,4.9,5.31,5.31,0,0,0,12,6.5,5.46,5.46,0,0,0,6.5,12Z\"/>\n",
              "  </svg>\n",
              "    </button>\n",
              "    <script>\n",
              "      (() => {\n",
              "      const buttonEl =\n",
              "        document.querySelector('#id_bc391d68-dcb8-495d-9fea-ec17a4a94356 button.colab-df-generate');\n",
              "      buttonEl.style.display =\n",
              "        google.colab.kernel.accessAllowed ? 'block' : 'none';\n",
              "\n",
              "      buttonEl.onclick = () => {\n",
              "        google.colab.notebook.generateWithVariable('df');\n",
              "      }\n",
              "      })();\n",
              "    </script>\n",
              "  </div>\n",
              "\n",
              "    </div>\n",
              "  </div>\n"
            ],
            "application/vnd.google.colaboratory.intrinsic+json": {
              "type": "dataframe",
              "variable_name": "df",
              "summary": "{\n  \"name\": \"df\",\n  \"rows\": 4,\n  \"fields\": [\n    {\n      \"column\": \"reservation_id\",\n      \"properties\": {\n        \"dtype\": \"Int64\",\n        \"num_unique_values\": 2,\n        \"samples\": [\n          \"7\",\n          \"6\"\n        ],\n        \"semantic_type\": \"\",\n        \"description\": \"\"\n      }\n    },\n    {\n      \"column\": \"reservation_datetime\",\n      \"properties\": {\n        \"dtype\": \"date\",\n        \"min\": \"2023-10-10 10:00:00\",\n        \"max\": \"2023-10-12 11:30:00\",\n        \"num_unique_values\": 2,\n        \"samples\": [\n          \"2023-10-12 11:30:00\",\n          \"2023-10-10 10:00:00\"\n        ],\n        \"semantic_type\": \"\",\n        \"description\": \"\"\n      }\n    },\n    {\n      \"column\": \"status\",\n      \"properties\": {\n        \"dtype\": \"category\",\n        \"num_unique_values\": 1,\n        \"samples\": [\n          \"Confirmed\"\n        ],\n        \"semantic_type\": \"\",\n        \"description\": \"\"\n      }\n    },\n    {\n      \"column\": \"departure_datetime\",\n      \"properties\": {\n        \"dtype\": \"date\",\n        \"min\": \"2023-11-25 06:00:00\",\n        \"max\": \"2023-11-27 20:00:00\",\n        \"num_unique_values\": 2,\n        \"samples\": [\n          \"2023-11-27 20:00:00\"\n        ],\n        \"semantic_type\": \"\",\n        \"description\": \"\"\n      }\n    },\n    {\n      \"column\": \"origin\",\n      \"properties\": {\n        \"dtype\": \"string\",\n        \"num_unique_values\": 2,\n        \"samples\": [\n          \"JFK\"\n        ],\n        \"semantic_type\": \"\",\n        \"description\": \"\"\n      }\n    },\n    {\n      \"column\": \"destination\",\n      \"properties\": {\n        \"dtype\": \"string\",\n        \"num_unique_values\": 2,\n        \"samples\": [\n          \"MIA\"\n        ],\n        \"semantic_type\": \"\",\n        \"description\": \"\"\n      }\n    },\n    {\n      \"column\": \"carrier\",\n      \"properties\": {\n        \"dtype\": \"string\",\n        \"num_unique_values\": 2,\n        \"samples\": [\n          \"American\"\n        ],\n        \"semantic_type\": \"\",\n        \"description\": \"\"\n      }\n    }\n  ]\n}"
            }
          },
          "metadata": {},
          "execution_count": 97
        }
      ],
      "source": [
        "df = bq.query(sql).to_dataframe()\n",
        "df"
      ]
    }
  ],
  "metadata": {
    "kernelspec": {
      "display_name": "Python 3",
      "name": "python3"
    },
    "language_info": {
      "codemirror_mode": {
        "name": "ipython",
        "version": 3
      },
      "file_extension": ".py",
      "mimetype": "text/x-python",
      "name": "python",
      "nbconvert_exporter": "python",
      "pygments_lexer": "ipython3",
      "version": "3.9.6"
    },
    "orig_nbformat": 4,
    "colab": {
      "provenance": [],
      "gpuType": "T4",
      "include_colab_link": true
    },
    "accelerator": "GPU"
  },
  "nbformat": 4,
  "nbformat_minor": 0
}